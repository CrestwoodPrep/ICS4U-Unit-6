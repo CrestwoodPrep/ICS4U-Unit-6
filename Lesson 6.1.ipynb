{
 "cells": [
  {
   "cell_type": "markdown",
   "metadata": {},
   "source": [
    "# Welcome to Lesson 6.1!\n",
    "## Here you will learn how to run python in Jupyter Notebook using Jupyter Lab!  \n",
    "\n",
    "Let's test our first code cell.\n",
    "Select the cell below and run it by selecting the run button or hitting shift+enter:"
   ]
  },
  {
   "cell_type": "code",
   "execution_count": null,
   "metadata": {},
   "outputs": [],
   "source": [
    "print(\"Hello World!\")"
   ]
  },
  {
   "cell_type": "markdown",
   "metadata": {},
   "source": [
    "### Ok, but can we create everything in this notebook?  \n",
    "Let's run a program from our last unit.  Below is the Insertion Sort code!"
   ]
  },
  {
   "cell_type": "code",
   "execution_count": null,
   "metadata": {},
   "outputs": [],
   "source": [
    "def insert(lst):\n",
    "  for i in range(1,len(lst)):\n",
    "    print(lst)\n",
    "    current = lst[i]\n",
    "    p = i\n",
    "    while lst[p-1]>current and p>0:\n",
    "      lst[p]=lst[p-1]\n",
    "      p=p-1\n",
    "    lst[p]=current\n",
    "  return lst\n",
    "\n",
    "list = [6,3,5,8,2]\n",
    "print(insert(list))"
   ]
  },
  {
   "cell_type": "markdown",
   "metadata": {},
   "source": [
    "### Nice!  Can we use that function in a new cell now that it has been defined?"
   ]
  },
  {
   "cell_type": "code",
   "execution_count": null,
   "metadata": {},
   "outputs": [],
   "source": [
    "list2 = [1,2,3,7,0]\n",
    "print(insert(list2))"
   ]
  },
  {
   "cell_type": "markdown",
   "metadata": {},
   "source": [
    "### Can we input?"
   ]
  },
  {
   "cell_type": "code",
   "execution_count": null,
   "metadata": {},
   "outputs": [],
   "source": [
    "x = input(\"Enter your name: \")\n",
    "print(\"Hello,\", x)"
   ]
  },
  {
   "cell_type": "markdown",
   "metadata": {},
   "source": [
    "## Why use this when we could keep using Repl.it?  \n",
    "Well, this way we can show data visualizations in place with the code and have it pre-run to create pdfs of the project as well as use the Markdown cells to communicate what we are doing!\n",
    "___\n",
    "\n",
    "\n"
   ]
  },
  {
   "cell_type": "markdown",
   "metadata": {},
   "source": [
    "# Markdown\n",
    "Each of these text cells is called a Markdown Cell.  Let's explore the markdown commands learned in class.  Double click on the cell below to see the markdown code of the following text."
   ]
  },
  {
   "cell_type": "markdown",
   "metadata": {},
   "source": [
    "# This is a title heading\n",
    "### This is a heading3\n",
    "This is no heading\n",
    "\n",
    ">This text has been indented by a backquote\n",
    "\n",
    "<b>This is bold text </b>\n",
    "<i>This is italic text </i>\n",
    "\n",
    "Hello <br> World\n",
    "___\n",
    "\n",
    "[Click to go to the top!](#Welcome-to-Lesson-6.1!)\n",
    "\n",
    "___\n"
   ]
  },
  {
   "cell_type": "markdown",
   "metadata": {},
   "source": [
    "# Data Visuals\n",
    "### Below we will see how our data visualizations will be placed in our lessons.  We will be completeing lessons on the matplotlib, numpy, and pandas libraries."
   ]
  },
  {
   "cell_type": "code",
   "execution_count": null,
   "metadata": {},
   "outputs": [],
   "source": [
    "from matplotlib import pyplot as plt\n",
    "import numpy as np\n",
    "x = np.arange(5)\n",
    "plt.plot(x, x, label = 'linear')\n",
    "plt.plot(x, x**2, label = 'square')\n",
    "plt.plot(x, x**3, label = 'cube')\n",
    "plt.grid(True)\n",
    "plt.xlabel('X-axis')\n",
    "plt.ylabel('Y-axis')\n",
    "plt.title(\"Polynomial Graph\")\n",
    "plt.legend()\n",
    "plt.show()"
   ]
  },
  {
   "cell_type": "code",
   "execution_count": null,
   "metadata": {},
   "outputs": [],
   "source": [
    "import pandas as pd\n",
    "data = pd.read_csv('https://data.ontario.ca/dataset/b1fef838-8784-4338-8ef9-ae7cfd405b41/resource/7fbdbb48-d074-45d9-93cb-f7de58950418/download/schoolcovidsummary.csv')\n",
    "print(data[[\"reported_date\",\"current_schools_w_cases\"]].sample(10))"
   ]
  },
  {
   "cell_type": "code",
   "execution_count": null,
   "metadata": {},
   "outputs": [],
   "source": [
    "data[[\"reported_date\",\"current_schools_w_cases\"]].plot()\n",
    "plt.grid(True)\n",
    "plt.xlabel('Day')\n",
    "plt.ylabel('Schools w/ Case')"
   ]
  }
 ],
 "metadata": {
  "kernelspec": {
   "display_name": "Python 3",
   "language": "python",
   "name": "python3"
  },
  "language_info": {
   "codemirror_mode": {
    "name": "ipython",
    "version": 3
   },
   "file_extension": ".py",
   "mimetype": "text/x-python",
   "name": "python",
   "nbconvert_exporter": "python",
   "pygments_lexer": "ipython3",
   "version": "3.7.1"
  }
 },
 "nbformat": 4,
 "nbformat_minor": 2
}
