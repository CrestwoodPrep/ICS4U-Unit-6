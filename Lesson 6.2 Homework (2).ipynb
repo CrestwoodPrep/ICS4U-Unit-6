{
 "cells": [
  {
   "cell_type": "markdown",
   "metadata": {},
   "source": [
    "# Lesson 6.2 Homework \n",
    "\n",
    "## numPy Practice"
   ]
  },
  {
   "cell_type": "markdown",
   "metadata": {},
   "source": [
    "Create the following ndarrays:\n",
    "<br> 1) an ndarray out of the array, arr, given below called A1\n",
    "<br> 2) a 4 by 4 ndarray made of random numbers from 3 to 15 inclusive\n",
    "<br> 3) a 3 by 2 ndarray of 1s called A3"
   ]
  },
  {
   "cell_type": "code",
   "execution_count": 5,
   "metadata": {
    "collapsed": false
   },
   "outputs": [
    {
     "name": "stdout",
     "output_type": "stream",
     "text": [
      "[[5 4 3]\n",
      " [1 2 9]]\n",
      "[[ 7 15  9 14]\n",
      " [ 7 13  3 10]\n",
      " [11  4 15 14]\n",
      " [ 9  8 10  8]]\n",
      "[[1. 1.]\n",
      " [1. 1.]\n",
      " [1. 1.]]\n"
     ]
    }
   ],
   "source": [
    "import numpy as np\n",
    "arr = [[5,4,3],[1,2,9]]\n",
    "## 1)\n",
    "A1 = np.array(arr)\n",
    "print(A1)\n",
    "## 2)\n",
    "A2 = np.random.randint(3, 16, (4,4))\n",
    "print(A2)\n",
    "## 3)\n",
    "A3 = np.ones((3,2))\n",
    "print(A3)"
   ]
  },
  {
   "cell_type": "markdown",
   "metadata": {},
   "source": [
    "From A1 above, \n",
    "<br> 1) print the number 4\n",
    "<br> 2) print the second column\n",
    "<br> 3) print the 1st and 3rd column for the second row"
   ]
  },
  {
   "cell_type": "code",
   "execution_count": 7,
   "metadata": {},
   "outputs": [
    {
     "name": "stdout",
     "output_type": "stream",
     "text": [
      "4\n",
      "[4 2]\n",
      "[1 9]\n"
     ]
    }
   ],
   "source": [
    "## 1)\n",
    "print(A1[0,1])\n",
    "## 2)\n",
    "print(A1[:,1])\n",
    "## 3)\n",
    "print(A1[1,[0,2]])"
   ]
  },
  {
   "cell_type": "markdown",
   "metadata": {},
   "source": [
    "## Pandas Practice"
   ]
  },
  {
   "cell_type": "markdown",
   "metadata": {},
   "source": [
    "Pick a Data Set from: https://data.ontario.ca/dataset?res_format=CSV\n",
    "<br> 1) Read in the Data set\n",
    "<br> 2) Output the First 5 rows\n",
    "<br> 3) Output the types of each column\n",
    "<br> 4) Output the mean of one of the numerical columns\n",
    "<br> 5) Create a new column that is a function of another one"
   ]
  },
  {
   "cell_type": "code",
   "execution_count": 14,
   "metadata": {
    "collapsed": false
   },
   "outputs": [],
   "source": [
    "## 1)\n",
    "import pandas as pd\n",
    "data = pd.read_csv('https://data.ontario.ca/dataset/ab5f4a2b-7219-4dc7-9e4d-aa4036c5bf36/resource/05214a0d-d8d9-4ea4-8d2a-f6e3833ba471/download/percent_positive_by_agegrp.csv')"
   ]
  },
  {
   "cell_type": "code",
   "execution_count": 16,
   "metadata": {},
   "outputs": [
    {
     "data": {
      "text/html": [
       "<div>\n",
       "<style scoped>\n",
       "    .dataframe tbody tr th:only-of-type {\n",
       "        vertical-align: middle;\n",
       "    }\n",
       "\n",
       "    .dataframe tbody tr th {\n",
       "        vertical-align: top;\n",
       "    }\n",
       "\n",
       "    .dataframe thead th {\n",
       "        text-align: right;\n",
       "    }\n",
       "</style>\n",
       "<table border=\"1\" class=\"dataframe\">\n",
       "  <thead>\n",
       "    <tr style=\"text-align: right;\">\n",
       "      <th></th>\n",
       "      <th>DATE</th>\n",
       "      <th>age_category</th>\n",
       "      <th>percent_positive_7d_avg</th>\n",
       "    </tr>\n",
       "  </thead>\n",
       "  <tbody>\n",
       "    <tr>\n",
       "      <th>0</th>\n",
       "      <td>2020-05-01</td>\n",
       "      <td>0to13</td>\n",
       "      <td>0.0340</td>\n",
       "    </tr>\n",
       "    <tr>\n",
       "      <th>1</th>\n",
       "      <td>2020-05-02</td>\n",
       "      <td>0to13</td>\n",
       "      <td>0.0350</td>\n",
       "    </tr>\n",
       "    <tr>\n",
       "      <th>2</th>\n",
       "      <td>2020-05-03</td>\n",
       "      <td>0to13</td>\n",
       "      <td>0.0360</td>\n",
       "    </tr>\n",
       "    <tr>\n",
       "      <th>3</th>\n",
       "      <td>2020-05-04</td>\n",
       "      <td>0to13</td>\n",
       "      <td>0.0359</td>\n",
       "    </tr>\n",
       "    <tr>\n",
       "      <th>4</th>\n",
       "      <td>2020-05-05</td>\n",
       "      <td>0to13</td>\n",
       "      <td>0.0355</td>\n",
       "    </tr>\n",
       "  </tbody>\n",
       "</table>\n",
       "</div>"
      ],
      "text/plain": [
       "         DATE age_category  percent_positive_7d_avg\n",
       "0  2020-05-01        0to13                   0.0340\n",
       "1  2020-05-02        0to13                   0.0350\n",
       "2  2020-05-03        0to13                   0.0360\n",
       "3  2020-05-04        0to13                   0.0359\n",
       "4  2020-05-05        0to13                   0.0355"
      ]
     },
     "execution_count": 16,
     "metadata": {},
     "output_type": "execute_result"
    }
   ],
   "source": [
    "data.head()"
   ]
  },
  {
   "cell_type": "code",
   "execution_count": 17,
   "metadata": {},
   "outputs": [
    {
     "data": {
      "text/plain": [
       "DATE                        object\n",
       "age_category                object\n",
       "percent_positive_7d_avg    float64\n",
       "dtype: object"
      ]
     },
     "execution_count": 17,
     "metadata": {},
     "output_type": "execute_result"
    }
   ],
   "source": [
    "## 3)\n",
    "data.dtypes"
   ]
  },
  {
   "cell_type": "code",
   "execution_count": 18,
   "metadata": {},
   "outputs": [
    {
     "data": {
      "text/plain": [
       "0.033817009966777375"
      ]
     },
     "execution_count": 18,
     "metadata": {},
     "output_type": "execute_result"
    }
   ],
   "source": [
    "## 4)\n",
    "data[\"percent_positive_7d_avg\"].mean()"
   ]
  },
  {
   "cell_type": "code",
   "execution_count": 19,
   "metadata": {},
   "outputs": [
    {
     "data": {
      "text/html": [
       "<div>\n",
       "<style scoped>\n",
       "    .dataframe tbody tr th:only-of-type {\n",
       "        vertical-align: middle;\n",
       "    }\n",
       "\n",
       "    .dataframe tbody tr th {\n",
       "        vertical-align: top;\n",
       "    }\n",
       "\n",
       "    .dataframe thead th {\n",
       "        text-align: right;\n",
       "    }\n",
       "</style>\n",
       "<table border=\"1\" class=\"dataframe\">\n",
       "  <thead>\n",
       "    <tr style=\"text-align: right;\">\n",
       "      <th></th>\n",
       "      <th>DATE</th>\n",
       "      <th>age_category</th>\n",
       "      <th>percent_positive_7d_avg</th>\n",
       "      <th>Percent_Pos</th>\n",
       "    </tr>\n",
       "  </thead>\n",
       "  <tbody>\n",
       "    <tr>\n",
       "      <th>1500</th>\n",
       "      <td>2021-02-21</td>\n",
       "      <td>65+</td>\n",
       "      <td>0.0168</td>\n",
       "      <td>1.68</td>\n",
       "    </tr>\n",
       "    <tr>\n",
       "      <th>1501</th>\n",
       "      <td>2021-02-22</td>\n",
       "      <td>65+</td>\n",
       "      <td>0.0159</td>\n",
       "      <td>1.59</td>\n",
       "    </tr>\n",
       "    <tr>\n",
       "      <th>1502</th>\n",
       "      <td>2021-02-23</td>\n",
       "      <td>65+</td>\n",
       "      <td>0.0164</td>\n",
       "      <td>1.64</td>\n",
       "    </tr>\n",
       "    <tr>\n",
       "      <th>1503</th>\n",
       "      <td>2021-02-24</td>\n",
       "      <td>65+</td>\n",
       "      <td>0.0167</td>\n",
       "      <td>1.67</td>\n",
       "    </tr>\n",
       "    <tr>\n",
       "      <th>1504</th>\n",
       "      <td>2021-02-25</td>\n",
       "      <td>65+</td>\n",
       "      <td>0.0164</td>\n",
       "      <td>1.64</td>\n",
       "    </tr>\n",
       "  </tbody>\n",
       "</table>\n",
       "</div>"
      ],
      "text/plain": [
       "            DATE age_category  percent_positive_7d_avg  Percent_Pos\n",
       "1500  2021-02-21          65+                   0.0168         1.68\n",
       "1501  2021-02-22          65+                   0.0159         1.59\n",
       "1502  2021-02-23          65+                   0.0164         1.64\n",
       "1503  2021-02-24          65+                   0.0167         1.67\n",
       "1504  2021-02-25          65+                   0.0164         1.64"
      ]
     },
     "execution_count": 19,
     "metadata": {},
     "output_type": "execute_result"
    }
   ],
   "source": [
    "## 5)\n",
    "data[\"Percent_Pos\"] = data[\"percent_positive_7d_avg\"]*100\n",
    "data.tail()"
   ]
  }
 ],
 "metadata": {
  "kernelspec": {
   "display_name": "Python 3",
   "language": "python",
   "name": "python3"
  },
  "language_info": {
   "codemirror_mode": {
    "name": "ipython",
    "version": 3
   },
   "file_extension": ".py",
   "mimetype": "text/x-python",
   "name": "python",
   "nbconvert_exporter": "python",
   "pygments_lexer": "ipython3",
   "version": "3.7.1"
  },
  "toc": {
   "nav_menu": {
    "height": "30px",
    "width": "252px"
   },
   "number_sections": true,
   "sideBar": true,
   "skip_h1_title": false,
   "toc_cell": false,
   "toc_position": {},
   "toc_section_display": "block",
   "toc_window_display": false
  }
 },
 "nbformat": 4,
 "nbformat_minor": 2
}
