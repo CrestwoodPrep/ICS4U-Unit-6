{
 "cells": [
  {
   "cell_type": "markdown",
   "metadata": {},
   "source": [
    "# Lesson 6.2"
   ]
  },
  {
   "cell_type": "markdown",
   "metadata": {},
   "source": [
    "\n",
    "## Numpy"
   ]
  },
  {
   "cell_type": "code",
   "execution_count": 33,
   "metadata": {
    "collapsed": false
   },
   "outputs": [
    {
     "data": {
      "text/plain": [
       "array([[79, 95, 60],\n",
       "       [95, 60, 61],\n",
       "       [99, 67, 84],\n",
       "       [76, 76, 97],\n",
       "       [91, 84, 98],\n",
       "       [70, 69, 96],\n",
       "       [88, 65, 76],\n",
       "       [67, 73, 80],\n",
       "       [82, 89, 61],\n",
       "       [94, 67, 88]])"
      ]
     },
     "execution_count": 33,
     "metadata": {},
     "output_type": "execute_result"
    }
   ],
   "source": [
    "## Grades example:\n",
    "import numpy as np\n",
    "grades = [[79, 95, 60],\n",
    " [95, 60, 61],\n",
    " [99, 67, 84],\n",
    " [76, 76, 97],\n",
    " [91, 84, 98],\n",
    " [70, 69, 96],\n",
    " [88, 65, 76],\n",
    " [67, 73, 80],\n",
    " [82, 89, 61],\n",
    " [94, 67, 88]]\n",
    "\n",
    "gArray = np.array(grades)\n",
    "\n",
    "gArray"
   ]
  },
  {
   "cell_type": "markdown",
   "metadata": {},
   "source": [
    "Below we will access \n",
    "- test 3 grade of student 0\n",
    "- grades of student 2\n",
    "- grades of all students for test 1\n",
    "- test 2 grades of the first three students\n",
    "- mean grade of test 1\n",
    "- test 2 grades for student 0 and 3"
   ]
  },
  {
   "cell_type": "code",
   "execution_count": 9,
   "metadata": {
    "collapsed": false
   },
   "outputs": [
    {
     "data": {
      "text/plain": [
       "60"
      ]
     },
     "execution_count": 9,
     "metadata": {},
     "output_type": "execute_result"
    }
   ],
   "source": [
    "##test 3 grade of student 0\n",
    "gArray[0,2]"
   ]
  },
  {
   "cell_type": "code",
   "execution_count": 8,
   "metadata": {
    "collapsed": false
   },
   "outputs": [
    {
     "data": {
      "text/plain": [
       "array([99, 67, 84])"
      ]
     },
     "execution_count": 8,
     "metadata": {},
     "output_type": "execute_result"
    }
   ],
   "source": [
    "##grades of student 2\n",
    "gArray[2,:]"
   ]
  },
  {
   "cell_type": "code",
   "execution_count": 10,
   "metadata": {},
   "outputs": [
    {
     "data": {
      "text/plain": [
       "array([79, 95, 99, 76, 91, 70, 88, 67, 82, 94])"
      ]
     },
     "execution_count": 10,
     "metadata": {},
     "output_type": "execute_result"
    }
   ],
   "source": [
    "## grades of all students for test 1\n",
    "gArray[:, 0]"
   ]
  },
  {
   "cell_type": "code",
   "execution_count": 11,
   "metadata": {},
   "outputs": [
    {
     "data": {
      "text/plain": [
       "array([[79, 95],\n",
       "       [95, 60],\n",
       "       [99, 67]])"
      ]
     },
     "execution_count": 11,
     "metadata": {},
     "output_type": "execute_result"
    }
   ],
   "source": [
    "## test 2 grades of the first three students\n",
    "gArray[:3, :2]"
   ]
  },
  {
   "cell_type": "code",
   "execution_count": 12,
   "metadata": {},
   "outputs": [
    {
     "data": {
      "text/plain": [
       "84.1"
      ]
     },
     "execution_count": 12,
     "metadata": {},
     "output_type": "execute_result"
    }
   ],
   "source": [
    "## mean grade of test 1\n",
    "gArray[:, 0].mean()"
   ]
  },
  {
   "cell_type": "code",
   "execution_count": 24,
   "metadata": {},
   "outputs": [
    {
     "data": {
      "text/plain": [
       "array([[79, 95],\n",
       "       [76, 76]])"
      ]
     },
     "execution_count": 24,
     "metadata": {},
     "output_type": "execute_result"
    }
   ],
   "source": [
    "## test 2 grades for student 0 and 3\n",
    "gArray[[0,3], :2]"
   ]
  },
  {
   "cell_type": "code",
   "execution_count": 31,
   "metadata": {},
   "outputs": [
    {
     "data": {
      "text/plain": [
       "array([[60, 79, 95],\n",
       "       [60, 61, 95],\n",
       "       [67, 84, 99],\n",
       "       [76, 76, 97],\n",
       "       [84, 91, 98],\n",
       "       [69, 70, 96],\n",
       "       [65, 76, 88],\n",
       "       [67, 73, 80],\n",
       "       [61, 82, 89],\n",
       "       [67, 88, 94]])"
      ]
     },
     "execution_count": 31,
     "metadata": {},
     "output_type": "execute_result"
    }
   ],
   "source": [
    "## sort each students test scores\n",
    "np.sort(gArray, axis=1)"
   ]
  },
  {
   "cell_type": "code",
   "execution_count": 34,
   "metadata": {},
   "outputs": [
    {
     "data": {
      "text/plain": [
       "array([[67, 60, 60],\n",
       "       [70, 65, 61],\n",
       "       [76, 67, 61],\n",
       "       [79, 67, 76],\n",
       "       [82, 69, 80],\n",
       "       [88, 73, 84],\n",
       "       [91, 76, 88],\n",
       "       [94, 84, 96],\n",
       "       [95, 89, 97],\n",
       "       [99, 95, 98]])"
      ]
     },
     "execution_count": 34,
     "metadata": {},
     "output_type": "execute_result"
    }
   ],
   "source": [
    "## sort each test score\n",
    "np.sort(gArray, axis=0)"
   ]
  },
  {
   "cell_type": "markdown",
   "metadata": {},
   "source": [
    "## Boolean indexing and Reshaping"
   ]
  },
  {
   "cell_type": "code",
   "execution_count": 44,
   "metadata": {},
   "outputs": [
    {
     "data": {
      "text/plain": [
       "array([[79, 95, 60],\n",
       "       [99, 67, 84],\n",
       "       [76, 76, 97],\n",
       "       [70, 69, 96]])"
      ]
     },
     "execution_count": 44,
     "metadata": {},
     "output_type": "execute_result"
    }
   ],
   "source": [
    "## select record for female students\n",
    "female = [ True, False,  True,  True, False,  True, False, False, False, False]\n",
    "\n",
    "gArray[female, :]"
   ]
  },
  {
   "cell_type": "code",
   "execution_count": 45,
   "metadata": {},
   "outputs": [
    {
     "data": {
      "text/plain": [
       "array([[79, 95, 60],\n",
       "       [95, 60, 61],\n",
       "       [82, 89, 61]])"
      ]
     },
     "execution_count": 45,
     "metadata": {},
     "output_type": "execute_result"
    }
   ],
   "source": [
    "## select record for those who had # <= 70 in test 3\n",
    "gArray[gArray[:, 2]<70,:]"
   ]
  },
  {
   "cell_type": "code",
   "execution_count": 46,
   "metadata": {},
   "outputs": [],
   "source": [
    "## make all marks less than 70 be 70\n",
    "gArray[gArray < 70] = 70"
   ]
  },
  {
   "cell_type": "code",
   "execution_count": 47,
   "metadata": {},
   "outputs": [
    {
     "data": {
      "text/plain": [
       "array([[79, 95, 70, 95, 70, 70, 99, 70, 84, 76],\n",
       "       [76, 97, 91, 84, 98, 70, 70, 96, 88, 70],\n",
       "       [76, 70, 73, 80, 82, 89, 70, 94, 70, 88]])"
      ]
     },
     "execution_count": 47,
     "metadata": {},
     "output_type": "execute_result"
    }
   ],
   "source": [
    "gArray.reshape((3,10))"
   ]
  },
  {
   "cell_type": "markdown",
   "metadata": {},
   "source": [
    "## Creating ndarrays:"
   ]
  },
  {
   "cell_type": "code",
   "execution_count": 17,
   "metadata": {},
   "outputs": [
    {
     "data": {
      "text/plain": [
       "array([[0, 1, 2],\n",
       "       [2, 3, 4]])"
      ]
     },
     "execution_count": 17,
     "metadata": {},
     "output_type": "execute_result"
    }
   ],
   "source": [
    "np.array([[0,1,2],[2,3,4]])"
   ]
  },
  {
   "cell_type": "code",
   "execution_count": 18,
   "metadata": {},
   "outputs": [
    {
     "data": {
      "text/plain": [
       "array([[0., 0., 0.],\n",
       "       [0., 0., 0.]])"
      ]
     },
     "execution_count": 18,
     "metadata": {},
     "output_type": "execute_result"
    }
   ],
   "source": [
    "np.zeros((2,3))"
   ]
  },
  {
   "cell_type": "code",
   "execution_count": 19,
   "metadata": {},
   "outputs": [
    {
     "data": {
      "text/plain": [
       "array([[1., 1., 1.],\n",
       "       [1., 1., 1.]])"
      ]
     },
     "execution_count": 19,
     "metadata": {},
     "output_type": "execute_result"
    }
   ],
   "source": [
    "np.ones((2,3))"
   ]
  },
  {
   "cell_type": "code",
   "execution_count": 20,
   "metadata": {},
   "outputs": [
    {
     "data": {
      "text/plain": [
       "array([[1., 0., 0.],\n",
       "       [0., 1., 0.],\n",
       "       [0., 0., 1.]])"
      ]
     },
     "execution_count": 20,
     "metadata": {},
     "output_type": "execute_result"
    }
   ],
   "source": [
    "np.eye(3)"
   ]
  },
  {
   "cell_type": "code",
   "execution_count": 21,
   "metadata": {},
   "outputs": [
    {
     "data": {
      "text/plain": [
       "array([0, 2, 4, 6, 8])"
      ]
     },
     "execution_count": 21,
     "metadata": {},
     "output_type": "execute_result"
    }
   ],
   "source": [
    "np.arange(0, 10, 2)"
   ]
  },
  {
   "cell_type": "code",
   "execution_count": 22,
   "metadata": {},
   "outputs": [
    {
     "data": {
      "text/plain": [
       "array([[0, 6, 1],\n",
       "       [1, 5, 2],\n",
       "       [1, 1, 4]])"
      ]
     },
     "execution_count": 22,
     "metadata": {},
     "output_type": "execute_result"
    }
   ],
   "source": [
    "np.random.randint(0, 10, (3,3))"
   ]
  },
  {
   "cell_type": "markdown",
   "metadata": {},
   "source": [
    "## Speed of numPy "
   ]
  },
  {
   "cell_type": "code",
   "execution_count": 53,
   "metadata": {},
   "outputs": [
    {
     "name": "stderr",
     "output_type": "stream",
     "text": [
      "C:\\Users\\cassy\\Anaconda3\\lib\\site-packages\\ipykernel_launcher.py:1: RuntimeWarning: overflow encountered in long_scalars\n",
      "  \"\"\"Entry point for launching an IPython kernel.\n"
     ]
    },
    {
     "name": "stdout",
     "output_type": "stream",
     "text": [
      "1.44 s ± 124 ms per loop (mean ± std. dev. of 7 runs, 1 loop each)\n",
      "6.94 ms ± 862 µs per loop (mean ± std. dev. of 7 runs, 100 loops each)\n"
     ]
    }
   ],
   "source": [
    "x = np.arange(10000000)\n",
    "%timeit sum(x)\n",
    "\n",
    "%timeit np.sum(x)"
   ]
  },
  {
   "cell_type": "markdown",
   "metadata": {},
   "source": [
    "# Pandas\n",
    "\n",
    "Pandas will be the primary library that we use for the data analytics section of the course.  It contains high-level data structures and manipulation tools designed to make data analysis fast and easy in Python.  The core data structures that we will use are pandas series and dataframes. In this part we cover:\n",
    "\n",
    "- Reading/Writing from/to a csv file.\n",
    "- Getting basic properties of the dataframe.\n",
    "- Indexing and Slicing dataframes\n"
   ]
  },
  {
   "cell_type": "markdown",
   "metadata": {},
   "source": [
    "## Reading csv + Basic Attributes"
   ]
  },
  {
   "cell_type": "code",
   "execution_count": 78,
   "metadata": {},
   "outputs": [
    {
     "data": {
      "text/html": [
       "<div>\n",
       "<style scoped>\n",
       "    .dataframe tbody tr th:only-of-type {\n",
       "        vertical-align: middle;\n",
       "    }\n",
       "\n",
       "    .dataframe tbody tr th {\n",
       "        vertical-align: top;\n",
       "    }\n",
       "\n",
       "    .dataframe thead th {\n",
       "        text-align: right;\n",
       "    }\n",
       "</style>\n",
       "<table border=\"1\" class=\"dataframe\">\n",
       "  <thead>\n",
       "    <tr style=\"text-align: right;\">\n",
       "      <th></th>\n",
       "      <th>collected_date</th>\n",
       "      <th>reported_date</th>\n",
       "      <th>current_schools_w_cases</th>\n",
       "      <th>current_schools_closed</th>\n",
       "      <th>current_total_number_schools</th>\n",
       "      <th>new_total_school_related_cases</th>\n",
       "      <th>new_school_related_student_cases</th>\n",
       "      <th>new_school_related_staff_cases</th>\n",
       "      <th>new_school_related_unspecified_cases</th>\n",
       "      <th>recent_total_school_related_cases</th>\n",
       "      <th>...</th>\n",
       "      <th>recent_school_related_staff_cases</th>\n",
       "      <th>recent_school_related_unspecified_cases</th>\n",
       "      <th>past_total_school_related_cases</th>\n",
       "      <th>past_school_related_student_cases</th>\n",
       "      <th>past_school_related_staff_cases</th>\n",
       "      <th>past_school_related_unspecified_cases</th>\n",
       "      <th>cumulative_school_related_cases</th>\n",
       "      <th>cumulative_school_related_student_cases</th>\n",
       "      <th>cumulative_school_related_staff_cases</th>\n",
       "      <th>cumulative_school_related_unspecified_cases</th>\n",
       "    </tr>\n",
       "  </thead>\n",
       "  <tbody>\n",
       "    <tr>\n",
       "      <th>103</th>\n",
       "      <td>2021-02-25</td>\n",
       "      <td>2021-02-26</td>\n",
       "      <td>468</td>\n",
       "      <td>18</td>\n",
       "      <td>4828</td>\n",
       "      <td>101</td>\n",
       "      <td>89</td>\n",
       "      <td>12</td>\n",
       "      <td>0.0</td>\n",
       "      <td>735.0</td>\n",
       "      <td>...</td>\n",
       "      <td>108.0</td>\n",
       "      <td>7.0</td>\n",
       "      <td>7717.0</td>\n",
       "      <td>5326.0</td>\n",
       "      <td>1267.0</td>\n",
       "      <td>1124.0</td>\n",
       "      <td>8452</td>\n",
       "      <td>5946</td>\n",
       "      <td>1375</td>\n",
       "      <td>1131.0</td>\n",
       "    </tr>\n",
       "    <tr>\n",
       "      <th>104</th>\n",
       "      <td>2021-02-26</td>\n",
       "      <td>2021-03-01</td>\n",
       "      <td>530</td>\n",
       "      <td>20</td>\n",
       "      <td>4828</td>\n",
       "      <td>116</td>\n",
       "      <td>99</td>\n",
       "      <td>15</td>\n",
       "      <td>2.0</td>\n",
       "      <td>844.0</td>\n",
       "      <td>...</td>\n",
       "      <td>120.0</td>\n",
       "      <td>9.0</td>\n",
       "      <td>7719.0</td>\n",
       "      <td>5328.0</td>\n",
       "      <td>1267.0</td>\n",
       "      <td>1124.0</td>\n",
       "      <td>8563</td>\n",
       "      <td>6043</td>\n",
       "      <td>1387</td>\n",
       "      <td>1133.0</td>\n",
       "    </tr>\n",
       "    <tr>\n",
       "      <th>105</th>\n",
       "      <td>2021-03-01</td>\n",
       "      <td>2021-03-02</td>\n",
       "      <td>640</td>\n",
       "      <td>23</td>\n",
       "      <td>4828</td>\n",
       "      <td>262</td>\n",
       "      <td>231</td>\n",
       "      <td>30</td>\n",
       "      <td>1.0</td>\n",
       "      <td>1072.0</td>\n",
       "      <td>...</td>\n",
       "      <td>149.0</td>\n",
       "      <td>10.0</td>\n",
       "      <td>7741.0</td>\n",
       "      <td>5349.0</td>\n",
       "      <td>1268.0</td>\n",
       "      <td>1124.0</td>\n",
       "      <td>8813</td>\n",
       "      <td>6262</td>\n",
       "      <td>1417</td>\n",
       "      <td>1134.0</td>\n",
       "    </tr>\n",
       "    <tr>\n",
       "      <th>106</th>\n",
       "      <td>2021-03-02</td>\n",
       "      <td>2021-03-03</td>\n",
       "      <td>672</td>\n",
       "      <td>24</td>\n",
       "      <td>4828</td>\n",
       "      <td>160</td>\n",
       "      <td>138</td>\n",
       "      <td>21</td>\n",
       "      <td>1.0</td>\n",
       "      <td>1141.0</td>\n",
       "      <td>...</td>\n",
       "      <td>164.0</td>\n",
       "      <td>10.0</td>\n",
       "      <td>7811.0</td>\n",
       "      <td>5412.0</td>\n",
       "      <td>1274.0</td>\n",
       "      <td>1125.0</td>\n",
       "      <td>8952</td>\n",
       "      <td>6379</td>\n",
       "      <td>1438</td>\n",
       "      <td>1135.0</td>\n",
       "    </tr>\n",
       "    <tr>\n",
       "      <th>107</th>\n",
       "      <td>2021-03-03</td>\n",
       "      <td>2021-03-04</td>\n",
       "      <td>683</td>\n",
       "      <td>26</td>\n",
       "      <td>4828</td>\n",
       "      <td>101</td>\n",
       "      <td>77</td>\n",
       "      <td>21</td>\n",
       "      <td>3.0</td>\n",
       "      <td>1168.0</td>\n",
       "      <td>...</td>\n",
       "      <td>164.0</td>\n",
       "      <td>13.0</td>\n",
       "      <td>7881.0</td>\n",
       "      <td>5464.0</td>\n",
       "      <td>1292.0</td>\n",
       "      <td>1125.0</td>\n",
       "      <td>9049</td>\n",
       "      <td>6455</td>\n",
       "      <td>1456</td>\n",
       "      <td>1138.0</td>\n",
       "    </tr>\n",
       "  </tbody>\n",
       "</table>\n",
       "<p>5 rows × 21 columns</p>\n",
       "</div>"
      ],
      "text/plain": [
       "    collected_date reported_date  current_schools_w_cases  \\\n",
       "103     2021-02-25    2021-02-26                      468   \n",
       "104     2021-02-26    2021-03-01                      530   \n",
       "105     2021-03-01    2021-03-02                      640   \n",
       "106     2021-03-02    2021-03-03                      672   \n",
       "107     2021-03-03    2021-03-04                      683   \n",
       "\n",
       "     current_schools_closed  current_total_number_schools  \\\n",
       "103                      18                          4828   \n",
       "104                      20                          4828   \n",
       "105                      23                          4828   \n",
       "106                      24                          4828   \n",
       "107                      26                          4828   \n",
       "\n",
       "     new_total_school_related_cases  new_school_related_student_cases  \\\n",
       "103                             101                                89   \n",
       "104                             116                                99   \n",
       "105                             262                               231   \n",
       "106                             160                               138   \n",
       "107                             101                                77   \n",
       "\n",
       "     new_school_related_staff_cases  new_school_related_unspecified_cases  \\\n",
       "103                              12                                   0.0   \n",
       "104                              15                                   2.0   \n",
       "105                              30                                   1.0   \n",
       "106                              21                                   1.0   \n",
       "107                              21                                   3.0   \n",
       "\n",
       "     recent_total_school_related_cases  \\\n",
       "103                              735.0   \n",
       "104                              844.0   \n",
       "105                             1072.0   \n",
       "106                             1141.0   \n",
       "107                             1168.0   \n",
       "\n",
       "                        ...                       \\\n",
       "103                     ...                        \n",
       "104                     ...                        \n",
       "105                     ...                        \n",
       "106                     ...                        \n",
       "107                     ...                        \n",
       "\n",
       "     recent_school_related_staff_cases  \\\n",
       "103                              108.0   \n",
       "104                              120.0   \n",
       "105                              149.0   \n",
       "106                              164.0   \n",
       "107                              164.0   \n",
       "\n",
       "     recent_school_related_unspecified_cases  past_total_school_related_cases  \\\n",
       "103                                      7.0                           7717.0   \n",
       "104                                      9.0                           7719.0   \n",
       "105                                     10.0                           7741.0   \n",
       "106                                     10.0                           7811.0   \n",
       "107                                     13.0                           7881.0   \n",
       "\n",
       "     past_school_related_student_cases  past_school_related_staff_cases  \\\n",
       "103                             5326.0                           1267.0   \n",
       "104                             5328.0                           1267.0   \n",
       "105                             5349.0                           1268.0   \n",
       "106                             5412.0                           1274.0   \n",
       "107                             5464.0                           1292.0   \n",
       "\n",
       "     past_school_related_unspecified_cases  cumulative_school_related_cases  \\\n",
       "103                                 1124.0                             8452   \n",
       "104                                 1124.0                             8563   \n",
       "105                                 1124.0                             8813   \n",
       "106                                 1125.0                             8952   \n",
       "107                                 1125.0                             9049   \n",
       "\n",
       "     cumulative_school_related_student_cases  \\\n",
       "103                                     5946   \n",
       "104                                     6043   \n",
       "105                                     6262   \n",
       "106                                     6379   \n",
       "107                                     6455   \n",
       "\n",
       "     cumulative_school_related_staff_cases  \\\n",
       "103                                   1375   \n",
       "104                                   1387   \n",
       "105                                   1417   \n",
       "106                                   1438   \n",
       "107                                   1456   \n",
       "\n",
       "     cumulative_school_related_unspecified_cases  \n",
       "103                                       1131.0  \n",
       "104                                       1133.0  \n",
       "105                                       1134.0  \n",
       "106                                       1135.0  \n",
       "107                                       1138.0  \n",
       "\n",
       "[5 rows x 21 columns]"
      ]
     },
     "execution_count": 78,
     "metadata": {},
     "output_type": "execute_result"
    }
   ],
   "source": [
    "import pandas as pd\n",
    "data = pd.read_csv('https://data.ontario.ca/dataset/b1fef838-8784-4338-8ef9-ae7cfd405b41/resource/7fbdbb48-d074-45d9-93cb-f7de58950418/download/schoolcovidsummary.csv')\n",
    "data.tail()"
   ]
  },
  {
   "cell_type": "code",
   "execution_count": 79,
   "metadata": {
    "collapsed": false
   },
   "outputs": [
    {
     "data": {
      "text/plain": [
       "Index(['collected_date', 'reported_date', 'current_schools_w_cases',\n",
       "       'current_schools_closed', 'current_total_number_schools',\n",
       "       'new_total_school_related_cases', 'new_school_related_student_cases',\n",
       "       'new_school_related_staff_cases',\n",
       "       'new_school_related_unspecified_cases',\n",
       "       'recent_total_school_related_cases',\n",
       "       'recent_school_related_student_cases',\n",
       "       'recent_school_related_staff_cases',\n",
       "       'recent_school_related_unspecified_cases',\n",
       "       'past_total_school_related_cases', 'past_school_related_student_cases',\n",
       "       'past_school_related_staff_cases',\n",
       "       'past_school_related_unspecified_cases',\n",
       "       'cumulative_school_related_cases',\n",
       "       'cumulative_school_related_student_cases',\n",
       "       'cumulative_school_related_staff_cases',\n",
       "       'cumulative_school_related_unspecified_cases'],\n",
       "      dtype='object')"
      ]
     },
     "execution_count": 79,
     "metadata": {},
     "output_type": "execute_result"
    }
   ],
   "source": [
    "#There are column names\n",
    "data.columns"
   ]
  },
  {
   "cell_type": "code",
   "execution_count": 80,
   "metadata": {
    "collapsed": false
   },
   "outputs": [
    {
     "data": {
      "text/plain": [
       "108"
      ]
     },
     "execution_count": 80,
     "metadata": {},
     "output_type": "execute_result"
    }
   ],
   "source": [
    "#Get the dimensions of the data frame with shape\n",
    "dimensions = data.shape\n",
    "numRows = dimensions[0]\n",
    "numRows"
   ]
  },
  {
   "cell_type": "code",
   "execution_count": 81,
   "metadata": {},
   "outputs": [
    {
     "data": {
      "text/plain": [
       "21"
      ]
     },
     "execution_count": 81,
     "metadata": {},
     "output_type": "execute_result"
    }
   ],
   "source": [
    "numCols = dimensions[1]\n",
    "numCols"
   ]
  },
  {
   "cell_type": "code",
   "execution_count": 82,
   "metadata": {
    "collapsed": false
   },
   "outputs": [
    {
     "data": {
      "text/plain": [
       "collected_date                                  object\n",
       "reported_date                                   object\n",
       "current_schools_w_cases                          int64\n",
       "current_schools_closed                           int64\n",
       "current_total_number_schools                     int64\n",
       "new_total_school_related_cases                   int64\n",
       "new_school_related_student_cases                 int64\n",
       "new_school_related_staff_cases                   int64\n",
       "new_school_related_unspecified_cases           float64\n",
       "recent_total_school_related_cases              float64\n",
       "recent_school_related_student_cases            float64\n",
       "recent_school_related_staff_cases              float64\n",
       "recent_school_related_unspecified_cases        float64\n",
       "past_total_school_related_cases                float64\n",
       "past_school_related_student_cases              float64\n",
       "past_school_related_staff_cases                float64\n",
       "past_school_related_unspecified_cases          float64\n",
       "cumulative_school_related_cases                  int64\n",
       "cumulative_school_related_student_cases          int64\n",
       "cumulative_school_related_staff_cases            int64\n",
       "cumulative_school_related_unspecified_cases    float64\n",
       "dtype: object"
      ]
     },
     "execution_count": 82,
     "metadata": {},
     "output_type": "execute_result"
    }
   ],
   "source": [
    "#Get the data type of each column\n",
    "data.dtypes"
   ]
  },
  {
   "cell_type": "code",
   "execution_count": 84,
   "metadata": {
    "collapsed": false
   },
   "outputs": [
    {
     "data": {
      "text/plain": [
       "0    2020-09-10\n",
       "1    2020-09-11\n",
       "2    2020-09-14\n",
       "3    2020-09-15\n",
       "4    2020-09-16\n",
       "Name: collected_date, dtype: object"
      ]
     },
     "execution_count": 84,
     "metadata": {},
     "output_type": "execute_result"
    }
   ],
   "source": [
    "#We can pick out a column by referencing its name. The result is a series or one dimensional data frame\n",
    "data['collected_date'].head()"
   ]
  },
  {
   "cell_type": "markdown",
   "metadata": {},
   "source": [
    "When you pick out a single column as we have done above the result is a series, which is essentially a one-dimensional dataframe"
   ]
  },
  {
   "cell_type": "markdown",
   "metadata": {},
   "source": [
    "Note that when we slice a series, the second entry in non-inclusive."
   ]
  },
  {
   "cell_type": "markdown",
   "metadata": {},
   "source": [
    "When we pick out multiple column, as we have done above, the result is dataframe."
   ]
  },
  {
   "cell_type": "markdown",
   "metadata": {},
   "source": [
    "## Slicing and Indexing\n",
    "\n",
    "We will be using the .loc (just labels) approach.  You can also slice with .iloc (just indicies) or .ix (indices and labels)."
   ]
  },
  {
   "cell_type": "code",
   "execution_count": 86,
   "metadata": {
    "collapsed": false
   },
   "outputs": [
    {
     "data": {
      "text/html": [
       "<div>\n",
       "<style scoped>\n",
       "    .dataframe tbody tr th:only-of-type {\n",
       "        vertical-align: middle;\n",
       "    }\n",
       "\n",
       "    .dataframe tbody tr th {\n",
       "        vertical-align: top;\n",
       "    }\n",
       "\n",
       "    .dataframe thead th {\n",
       "        text-align: right;\n",
       "    }\n",
       "</style>\n",
       "<table border=\"1\" class=\"dataframe\">\n",
       "  <thead>\n",
       "    <tr style=\"text-align: right;\">\n",
       "      <th></th>\n",
       "      <th>collected_date</th>\n",
       "      <th>reported_date</th>\n",
       "      <th>current_schools_w_cases</th>\n",
       "      <th>current_schools_closed</th>\n",
       "      <th>current_total_number_schools</th>\n",
       "      <th>new_total_school_related_cases</th>\n",
       "      <th>new_school_related_student_cases</th>\n",
       "      <th>new_school_related_staff_cases</th>\n",
       "      <th>new_school_related_unspecified_cases</th>\n",
       "      <th>recent_total_school_related_cases</th>\n",
       "      <th>...</th>\n",
       "      <th>recent_school_related_staff_cases</th>\n",
       "      <th>recent_school_related_unspecified_cases</th>\n",
       "      <th>past_total_school_related_cases</th>\n",
       "      <th>past_school_related_student_cases</th>\n",
       "      <th>past_school_related_staff_cases</th>\n",
       "      <th>past_school_related_unspecified_cases</th>\n",
       "      <th>cumulative_school_related_cases</th>\n",
       "      <th>cumulative_school_related_student_cases</th>\n",
       "      <th>cumulative_school_related_staff_cases</th>\n",
       "      <th>cumulative_school_related_unspecified_cases</th>\n",
       "    </tr>\n",
       "  </thead>\n",
       "  <tbody>\n",
       "    <tr>\n",
       "      <th>0</th>\n",
       "      <td>2020-09-10</td>\n",
       "      <td>2020-09-11</td>\n",
       "      <td>13</td>\n",
       "      <td>0</td>\n",
       "      <td>4828</td>\n",
       "      <td>0</td>\n",
       "      <td>0</td>\n",
       "      <td>0</td>\n",
       "      <td>NaN</td>\n",
       "      <td>NaN</td>\n",
       "      <td>...</td>\n",
       "      <td>NaN</td>\n",
       "      <td>NaN</td>\n",
       "      <td>NaN</td>\n",
       "      <td>NaN</td>\n",
       "      <td>NaN</td>\n",
       "      <td>NaN</td>\n",
       "      <td>13</td>\n",
       "      <td>4</td>\n",
       "      <td>9</td>\n",
       "      <td>NaN</td>\n",
       "    </tr>\n",
       "    <tr>\n",
       "      <th>1</th>\n",
       "      <td>2020-09-11</td>\n",
       "      <td>2020-09-14</td>\n",
       "      <td>15</td>\n",
       "      <td>0</td>\n",
       "      <td>4828</td>\n",
       "      <td>2</td>\n",
       "      <td>1</td>\n",
       "      <td>1</td>\n",
       "      <td>NaN</td>\n",
       "      <td>NaN</td>\n",
       "      <td>...</td>\n",
       "      <td>NaN</td>\n",
       "      <td>NaN</td>\n",
       "      <td>NaN</td>\n",
       "      <td>NaN</td>\n",
       "      <td>NaN</td>\n",
       "      <td>NaN</td>\n",
       "      <td>15</td>\n",
       "      <td>5</td>\n",
       "      <td>10</td>\n",
       "      <td>NaN</td>\n",
       "    </tr>\n",
       "    <tr>\n",
       "      <th>2</th>\n",
       "      <td>2020-09-14</td>\n",
       "      <td>2020-09-15</td>\n",
       "      <td>27</td>\n",
       "      <td>0</td>\n",
       "      <td>4828</td>\n",
       "      <td>14</td>\n",
       "      <td>4</td>\n",
       "      <td>4</td>\n",
       "      <td>6.0</td>\n",
       "      <td>NaN</td>\n",
       "      <td>...</td>\n",
       "      <td>NaN</td>\n",
       "      <td>NaN</td>\n",
       "      <td>NaN</td>\n",
       "      <td>NaN</td>\n",
       "      <td>NaN</td>\n",
       "      <td>NaN</td>\n",
       "      <td>29</td>\n",
       "      <td>9</td>\n",
       "      <td>14</td>\n",
       "      <td>6.0</td>\n",
       "    </tr>\n",
       "    <tr>\n",
       "      <th>3</th>\n",
       "      <td>2020-09-15</td>\n",
       "      <td>2020-09-16</td>\n",
       "      <td>35</td>\n",
       "      <td>0</td>\n",
       "      <td>4828</td>\n",
       "      <td>12</td>\n",
       "      <td>6</td>\n",
       "      <td>4</td>\n",
       "      <td>2.0</td>\n",
       "      <td>NaN</td>\n",
       "      <td>...</td>\n",
       "      <td>NaN</td>\n",
       "      <td>NaN</td>\n",
       "      <td>NaN</td>\n",
       "      <td>NaN</td>\n",
       "      <td>NaN</td>\n",
       "      <td>NaN</td>\n",
       "      <td>41</td>\n",
       "      <td>15</td>\n",
       "      <td>18</td>\n",
       "      <td>8.0</td>\n",
       "    </tr>\n",
       "    <tr>\n",
       "      <th>4</th>\n",
       "      <td>2020-09-16</td>\n",
       "      <td>2020-09-17</td>\n",
       "      <td>51</td>\n",
       "      <td>1</td>\n",
       "      <td>4828</td>\n",
       "      <td>21</td>\n",
       "      <td>5</td>\n",
       "      <td>4</td>\n",
       "      <td>12.0</td>\n",
       "      <td>NaN</td>\n",
       "      <td>...</td>\n",
       "      <td>NaN</td>\n",
       "      <td>NaN</td>\n",
       "      <td>NaN</td>\n",
       "      <td>NaN</td>\n",
       "      <td>NaN</td>\n",
       "      <td>NaN</td>\n",
       "      <td>62</td>\n",
       "      <td>20</td>\n",
       "      <td>22</td>\n",
       "      <td>20.0</td>\n",
       "    </tr>\n",
       "  </tbody>\n",
       "</table>\n",
       "<p>5 rows × 21 columns</p>\n",
       "</div>"
      ],
      "text/plain": [
       "  collected_date reported_date  current_schools_w_cases  \\\n",
       "0     2020-09-10    2020-09-11                       13   \n",
       "1     2020-09-11    2020-09-14                       15   \n",
       "2     2020-09-14    2020-09-15                       27   \n",
       "3     2020-09-15    2020-09-16                       35   \n",
       "4     2020-09-16    2020-09-17                       51   \n",
       "\n",
       "   current_schools_closed  current_total_number_schools  \\\n",
       "0                       0                          4828   \n",
       "1                       0                          4828   \n",
       "2                       0                          4828   \n",
       "3                       0                          4828   \n",
       "4                       1                          4828   \n",
       "\n",
       "   new_total_school_related_cases  new_school_related_student_cases  \\\n",
       "0                               0                                 0   \n",
       "1                               2                                 1   \n",
       "2                              14                                 4   \n",
       "3                              12                                 6   \n",
       "4                              21                                 5   \n",
       "\n",
       "   new_school_related_staff_cases  new_school_related_unspecified_cases  \\\n",
       "0                               0                                   NaN   \n",
       "1                               1                                   NaN   \n",
       "2                               4                                   6.0   \n",
       "3                               4                                   2.0   \n",
       "4                               4                                  12.0   \n",
       "\n",
       "   recent_total_school_related_cases  \\\n",
       "0                                NaN   \n",
       "1                                NaN   \n",
       "2                                NaN   \n",
       "3                                NaN   \n",
       "4                                NaN   \n",
       "\n",
       "                      ...                       \\\n",
       "0                     ...                        \n",
       "1                     ...                        \n",
       "2                     ...                        \n",
       "3                     ...                        \n",
       "4                     ...                        \n",
       "\n",
       "   recent_school_related_staff_cases  recent_school_related_unspecified_cases  \\\n",
       "0                                NaN                                      NaN   \n",
       "1                                NaN                                      NaN   \n",
       "2                                NaN                                      NaN   \n",
       "3                                NaN                                      NaN   \n",
       "4                                NaN                                      NaN   \n",
       "\n",
       "   past_total_school_related_cases  past_school_related_student_cases  \\\n",
       "0                              NaN                                NaN   \n",
       "1                              NaN                                NaN   \n",
       "2                              NaN                                NaN   \n",
       "3                              NaN                                NaN   \n",
       "4                              NaN                                NaN   \n",
       "\n",
       "   past_school_related_staff_cases  past_school_related_unspecified_cases  \\\n",
       "0                              NaN                                    NaN   \n",
       "1                              NaN                                    NaN   \n",
       "2                              NaN                                    NaN   \n",
       "3                              NaN                                    NaN   \n",
       "4                              NaN                                    NaN   \n",
       "\n",
       "   cumulative_school_related_cases  cumulative_school_related_student_cases  \\\n",
       "0                               13                                        4   \n",
       "1                               15                                        5   \n",
       "2                               29                                        9   \n",
       "3                               41                                       15   \n",
       "4                               62                                       20   \n",
       "\n",
       "   cumulative_school_related_staff_cases  \\\n",
       "0                                      9   \n",
       "1                                     10   \n",
       "2                                     14   \n",
       "3                                     18   \n",
       "4                                     22   \n",
       "\n",
       "   cumulative_school_related_unspecified_cases  \n",
       "0                                          NaN  \n",
       "1                                          NaN  \n",
       "2                                          6.0  \n",
       "3                                          8.0  \n",
       "4                                         20.0  \n",
       "\n",
       "[5 rows x 21 columns]"
      ]
     },
     "execution_count": 86,
     "metadata": {},
     "output_type": "execute_result"
    }
   ],
   "source": [
    "#Let's look at the data \n",
    "data.head()"
   ]
  },
  {
   "cell_type": "code",
   "execution_count": 88,
   "metadata": {
    "collapsed": false
   },
   "outputs": [
    {
     "data": {
      "text/plain": [
       "'2020-09-11'"
      ]
     },
     "execution_count": 88,
     "metadata": {},
     "output_type": "execute_result"
    }
   ],
   "source": [
    "#Pick out a single entry (using loc)\n",
    "data.loc[1,\"collected_date\"]"
   ]
  },
  {
   "cell_type": "code",
   "execution_count": 87,
   "metadata": {
    "collapsed": false
   },
   "outputs": [
    {
     "data": {
      "text/html": [
       "<div>\n",
       "<style scoped>\n",
       "    .dataframe tbody tr th:only-of-type {\n",
       "        vertical-align: middle;\n",
       "    }\n",
       "\n",
       "    .dataframe tbody tr th {\n",
       "        vertical-align: top;\n",
       "    }\n",
       "\n",
       "    .dataframe thead th {\n",
       "        text-align: right;\n",
       "    }\n",
       "</style>\n",
       "<table border=\"1\" class=\"dataframe\">\n",
       "  <thead>\n",
       "    <tr style=\"text-align: right;\">\n",
       "      <th></th>\n",
       "      <th>collected_date</th>\n",
       "      <th>reported_date</th>\n",
       "      <th>current_schools_w_cases</th>\n",
       "      <th>current_schools_closed</th>\n",
       "    </tr>\n",
       "  </thead>\n",
       "  <tbody>\n",
       "    <tr>\n",
       "      <th>1</th>\n",
       "      <td>2020-09-11</td>\n",
       "      <td>2020-09-14</td>\n",
       "      <td>15</td>\n",
       "      <td>0</td>\n",
       "    </tr>\n",
       "    <tr>\n",
       "      <th>2</th>\n",
       "      <td>2020-09-14</td>\n",
       "      <td>2020-09-15</td>\n",
       "      <td>27</td>\n",
       "      <td>0</td>\n",
       "    </tr>\n",
       "    <tr>\n",
       "      <th>3</th>\n",
       "      <td>2020-09-15</td>\n",
       "      <td>2020-09-16</td>\n",
       "      <td>35</td>\n",
       "      <td>0</td>\n",
       "    </tr>\n",
       "  </tbody>\n",
       "</table>\n",
       "</div>"
      ],
      "text/plain": [
       "  collected_date reported_date  current_schools_w_cases  \\\n",
       "1     2020-09-11    2020-09-14                       15   \n",
       "2     2020-09-14    2020-09-15                       27   \n",
       "3     2020-09-15    2020-09-16                       35   \n",
       "\n",
       "   current_schools_closed  \n",
       "1                       0  \n",
       "2                       0  \n",
       "3                       0  "
      ]
     },
     "execution_count": 87,
     "metadata": {},
     "output_type": "execute_result"
    }
   ],
   "source": [
    "#Select rows and columns usng loc\n",
    "data.loc[1:3, \"collected_date\":\"current_schools_closed\"]"
   ]
  },
  {
   "cell_type": "markdown",
   "metadata": {},
   "source": [
    "Note that when we slice with .loc, the endpoint are inclusive."
   ]
  },
  {
   "cell_type": "code",
   "execution_count": 129,
   "metadata": {},
   "outputs": [
    {
     "data": {
      "text/html": [
       "<div>\n",
       "<style scoped>\n",
       "    .dataframe tbody tr th:only-of-type {\n",
       "        vertical-align: middle;\n",
       "    }\n",
       "\n",
       "    .dataframe tbody tr th {\n",
       "        vertical-align: top;\n",
       "    }\n",
       "\n",
       "    .dataframe thead th {\n",
       "        text-align: right;\n",
       "    }\n",
       "</style>\n",
       "<table border=\"1\" class=\"dataframe\">\n",
       "  <thead>\n",
       "    <tr style=\"text-align: right;\">\n",
       "      <th></th>\n",
       "      <th>date</th>\n",
       "      <th>reported_date</th>\n",
       "      <th>current_schools_w_cases</th>\n",
       "    </tr>\n",
       "  </thead>\n",
       "  <tbody>\n",
       "    <tr>\n",
       "      <th>1</th>\n",
       "      <td>2020-09-11</td>\n",
       "      <td>2020-09-14</td>\n",
       "      <td>15</td>\n",
       "    </tr>\n",
       "    <tr>\n",
       "      <th>2</th>\n",
       "      <td>2020-09-14</td>\n",
       "      <td>2020-09-15</td>\n",
       "      <td>27</td>\n",
       "    </tr>\n",
       "  </tbody>\n",
       "</table>\n",
       "</div>"
      ],
      "text/plain": [
       "        date reported_date  current_schools_w_cases\n",
       "1 2020-09-11    2020-09-14                       15\n",
       "2 2020-09-14    2020-09-15                       27"
      ]
     },
     "execution_count": 129,
     "metadata": {},
     "output_type": "execute_result"
    }
   ],
   "source": [
    "#Select rows and columns usng iloc\n",
    "data.iloc[1:3, 0:3]"
   ]
  },
  {
   "cell_type": "markdown",
   "metadata": {},
   "source": [
    "Note that when we slice with .iloc, the endpoint are inclusive. (iloc is integer location is same as numpy!)"
   ]
  },
  {
   "cell_type": "code",
   "execution_count": 89,
   "metadata": {
    "collapsed": false
   },
   "outputs": [
    {
     "data": {
      "text/plain": [
       "84.89814814814815"
      ]
     },
     "execution_count": 89,
     "metadata": {},
     "output_type": "execute_result"
    }
   ],
   "source": [
    "#Compute mean cases per day\n",
    "avg_cases = data[\"new_total_school_related_cases\"].mean()\n",
    "avg_cases"
   ]
  },
  {
   "cell_type": "markdown",
   "metadata": {},
   "source": [
    "We can apply any of these built in functions to multiple columns."
   ]
  },
  {
   "cell_type": "code",
   "execution_count": 90,
   "metadata": {
    "collapsed": false
   },
   "outputs": [
    {
     "data": {
      "text/plain": [
       "current_schools_w_cases                         404.305556\n",
       "current_schools_closed                            4.888889\n",
       "current_total_number_schools                   4828.000000\n",
       "new_total_school_related_cases                   84.898148\n",
       "new_school_related_student_cases                 61.435185\n",
       "new_school_related_staff_cases                   12.814815\n",
       "new_school_related_unspecified_cases             10.849057\n",
       "recent_total_school_related_cases               754.595745\n",
       "recent_school_related_student_cases             533.212766\n",
       "recent_school_related_staff_cases               109.936170\n",
       "recent_school_related_unspecified_cases         111.425532\n",
       "past_total_school_related_cases                4272.808511\n",
       "past_school_related_student_cases              2837.085106\n",
       "past_school_related_staff_cases                 634.234043\n",
       "past_school_related_unspecified_cases           801.478723\n",
       "cumulative_school_related_cases                4394.314815\n",
       "cumulative_school_related_student_cases        2942.185185\n",
       "cumulative_school_related_staff_cases           651.648148\n",
       "cumulative_school_related_unspecified_cases     815.594340\n",
       "dtype: float64"
      ]
     },
     "execution_count": 90,
     "metadata": {},
     "output_type": "execute_result"
    }
   ],
   "source": [
    "#applying function to multiple rows\n",
    "data.mean()"
   ]
  },
  {
   "cell_type": "markdown",
   "metadata": {},
   "source": [
    "As you can see, the end result is a series, where the column names become the index of the series. The **describe()** method gives you key stats (as a dataframe) for every numeric column."
   ]
  },
  {
   "cell_type": "code",
   "execution_count": 91,
   "metadata": {
    "collapsed": false
   },
   "outputs": [
    {
     "data": {
      "text/html": [
       "<div>\n",
       "<style scoped>\n",
       "    .dataframe tbody tr th:only-of-type {\n",
       "        vertical-align: middle;\n",
       "    }\n",
       "\n",
       "    .dataframe tbody tr th {\n",
       "        vertical-align: top;\n",
       "    }\n",
       "\n",
       "    .dataframe thead th {\n",
       "        text-align: right;\n",
       "    }\n",
       "</style>\n",
       "<table border=\"1\" class=\"dataframe\">\n",
       "  <thead>\n",
       "    <tr style=\"text-align: right;\">\n",
       "      <th></th>\n",
       "      <th>current_schools_w_cases</th>\n",
       "      <th>current_schools_closed</th>\n",
       "      <th>current_total_number_schools</th>\n",
       "      <th>new_total_school_related_cases</th>\n",
       "      <th>new_school_related_student_cases</th>\n",
       "      <th>new_school_related_staff_cases</th>\n",
       "      <th>new_school_related_unspecified_cases</th>\n",
       "      <th>recent_total_school_related_cases</th>\n",
       "      <th>recent_school_related_student_cases</th>\n",
       "      <th>recent_school_related_staff_cases</th>\n",
       "      <th>recent_school_related_unspecified_cases</th>\n",
       "      <th>past_total_school_related_cases</th>\n",
       "      <th>past_school_related_student_cases</th>\n",
       "      <th>past_school_related_staff_cases</th>\n",
       "      <th>past_school_related_unspecified_cases</th>\n",
       "      <th>cumulative_school_related_cases</th>\n",
       "      <th>cumulative_school_related_student_cases</th>\n",
       "      <th>cumulative_school_related_staff_cases</th>\n",
       "      <th>cumulative_school_related_unspecified_cases</th>\n",
       "    </tr>\n",
       "  </thead>\n",
       "  <tbody>\n",
       "    <tr>\n",
       "      <th>count</th>\n",
       "      <td>108.000000</td>\n",
       "      <td>108.000000</td>\n",
       "      <td>108.0</td>\n",
       "      <td>108.000000</td>\n",
       "      <td>108.000000</td>\n",
       "      <td>108.000000</td>\n",
       "      <td>106.000000</td>\n",
       "      <td>94.000000</td>\n",
       "      <td>94.000000</td>\n",
       "      <td>94.000000</td>\n",
       "      <td>94.000000</td>\n",
       "      <td>94.000000</td>\n",
       "      <td>94.000000</td>\n",
       "      <td>94.000000</td>\n",
       "      <td>94.000000</td>\n",
       "      <td>108.000000</td>\n",
       "      <td>108.000000</td>\n",
       "      <td>108.000000</td>\n",
       "      <td>106.000000</td>\n",
       "    </tr>\n",
       "    <tr>\n",
       "      <th>mean</th>\n",
       "      <td>404.305556</td>\n",
       "      <td>4.888889</td>\n",
       "      <td>4828.0</td>\n",
       "      <td>84.898148</td>\n",
       "      <td>61.435185</td>\n",
       "      <td>12.814815</td>\n",
       "      <td>10.849057</td>\n",
       "      <td>754.595745</td>\n",
       "      <td>533.212766</td>\n",
       "      <td>109.936170</td>\n",
       "      <td>111.425532</td>\n",
       "      <td>4272.808511</td>\n",
       "      <td>2837.085106</td>\n",
       "      <td>634.234043</td>\n",
       "      <td>801.478723</td>\n",
       "      <td>4394.314815</td>\n",
       "      <td>2942.185185</td>\n",
       "      <td>651.648148</td>\n",
       "      <td>815.594340</td>\n",
       "    </tr>\n",
       "    <tr>\n",
       "      <th>std</th>\n",
       "      <td>302.603700</td>\n",
       "      <td>6.273119</td>\n",
       "      <td>0.0</td>\n",
       "      <td>72.360977</td>\n",
       "      <td>60.549705</td>\n",
       "      <td>11.837804</td>\n",
       "      <td>15.080604</td>\n",
       "      <td>553.847895</td>\n",
       "      <td>449.084514</td>\n",
       "      <td>92.085725</td>\n",
       "      <td>129.900333</td>\n",
       "      <td>2850.112242</td>\n",
       "      <td>2061.752463</td>\n",
       "      <td>442.289484</td>\n",
       "      <td>396.100013</td>\n",
       "      <td>2991.768325</td>\n",
       "      <td>2163.749662</td>\n",
       "      <td>462.579689</td>\n",
       "      <td>403.920284</td>\n",
       "    </tr>\n",
       "    <tr>\n",
       "      <th>min</th>\n",
       "      <td>2.000000</td>\n",
       "      <td>0.000000</td>\n",
       "      <td>4828.0</td>\n",
       "      <td>0.000000</td>\n",
       "      <td>0.000000</td>\n",
       "      <td>0.000000</td>\n",
       "      <td>0.000000</td>\n",
       "      <td>3.000000</td>\n",
       "      <td>2.000000</td>\n",
       "      <td>0.000000</td>\n",
       "      <td>0.000000</td>\n",
       "      <td>61.000000</td>\n",
       "      <td>21.000000</td>\n",
       "      <td>23.000000</td>\n",
       "      <td>17.000000</td>\n",
       "      <td>13.000000</td>\n",
       "      <td>4.000000</td>\n",
       "      <td>9.000000</td>\n",
       "      <td>6.000000</td>\n",
       "    </tr>\n",
       "    <tr>\n",
       "      <th>25%</th>\n",
       "      <td>73.000000</td>\n",
       "      <td>1.000000</td>\n",
       "      <td>4828.0</td>\n",
       "      <td>22.750000</td>\n",
       "      <td>15.250000</td>\n",
       "      <td>4.000000</td>\n",
       "      <td>0.000000</td>\n",
       "      <td>162.500000</td>\n",
       "      <td>128.750000</td>\n",
       "      <td>27.250000</td>\n",
       "      <td>4.250000</td>\n",
       "      <td>1588.250000</td>\n",
       "      <td>884.750000</td>\n",
       "      <td>238.250000</td>\n",
       "      <td>465.250000</td>\n",
       "      <td>1534.000000</td>\n",
       "      <td>858.000000</td>\n",
       "      <td>232.000000</td>\n",
       "      <td>486.750000</td>\n",
       "    </tr>\n",
       "    <tr>\n",
       "      <th>50%</th>\n",
       "      <td>433.000000</td>\n",
       "      <td>2.500000</td>\n",
       "      <td>4828.0</td>\n",
       "      <td>74.500000</td>\n",
       "      <td>49.000000</td>\n",
       "      <td>10.000000</td>\n",
       "      <td>2.000000</td>\n",
       "      <td>795.500000</td>\n",
       "      <td>478.500000</td>\n",
       "      <td>97.500000</td>\n",
       "      <td>22.000000</td>\n",
       "      <td>4015.500000</td>\n",
       "      <td>2393.000000</td>\n",
       "      <td>535.500000</td>\n",
       "      <td>1087.000000</td>\n",
       "      <td>4409.500000</td>\n",
       "      <td>2721.000000</td>\n",
       "      <td>601.500000</td>\n",
       "      <td>1088.000000</td>\n",
       "    </tr>\n",
       "    <tr>\n",
       "      <th>75%</th>\n",
       "      <td>670.000000</td>\n",
       "      <td>5.000000</td>\n",
       "      <td>4828.0</td>\n",
       "      <td>121.250000</td>\n",
       "      <td>86.750000</td>\n",
       "      <td>21.000000</td>\n",
       "      <td>19.750000</td>\n",
       "      <td>1142.500000</td>\n",
       "      <td>717.250000</td>\n",
       "      <td>160.250000</td>\n",
       "      <td>236.750000</td>\n",
       "      <td>7315.750000</td>\n",
       "      <td>5131.000000</td>\n",
       "      <td>1094.000000</td>\n",
       "      <td>1089.750000</td>\n",
       "      <td>7338.000000</td>\n",
       "      <td>5137.500000</td>\n",
       "      <td>1097.000000</td>\n",
       "      <td>1109.500000</td>\n",
       "    </tr>\n",
       "    <tr>\n",
       "      <th>max</th>\n",
       "      <td>976.000000</td>\n",
       "      <td>26.000000</td>\n",
       "      <td>4828.0</td>\n",
       "      <td>333.000000</td>\n",
       "      <td>278.000000</td>\n",
       "      <td>55.000000</td>\n",
       "      <td>65.000000</td>\n",
       "      <td>1844.000000</td>\n",
       "      <td>1533.000000</td>\n",
       "      <td>304.000000</td>\n",
       "      <td>354.000000</td>\n",
       "      <td>7881.000000</td>\n",
       "      <td>5464.000000</td>\n",
       "      <td>1292.000000</td>\n",
       "      <td>1126.000000</td>\n",
       "      <td>9049.000000</td>\n",
       "      <td>6455.000000</td>\n",
       "      <td>1456.000000</td>\n",
       "      <td>1138.000000</td>\n",
       "    </tr>\n",
       "  </tbody>\n",
       "</table>\n",
       "</div>"
      ],
      "text/plain": [
       "       current_schools_w_cases  current_schools_closed  \\\n",
       "count               108.000000              108.000000   \n",
       "mean                404.305556                4.888889   \n",
       "std                 302.603700                6.273119   \n",
       "min                   2.000000                0.000000   \n",
       "25%                  73.000000                1.000000   \n",
       "50%                 433.000000                2.500000   \n",
       "75%                 670.000000                5.000000   \n",
       "max                 976.000000               26.000000   \n",
       "\n",
       "       current_total_number_schools  new_total_school_related_cases  \\\n",
       "count                         108.0                      108.000000   \n",
       "mean                         4828.0                       84.898148   \n",
       "std                             0.0                       72.360977   \n",
       "min                          4828.0                        0.000000   \n",
       "25%                          4828.0                       22.750000   \n",
       "50%                          4828.0                       74.500000   \n",
       "75%                          4828.0                      121.250000   \n",
       "max                          4828.0                      333.000000   \n",
       "\n",
       "       new_school_related_student_cases  new_school_related_staff_cases  \\\n",
       "count                        108.000000                      108.000000   \n",
       "mean                          61.435185                       12.814815   \n",
       "std                           60.549705                       11.837804   \n",
       "min                            0.000000                        0.000000   \n",
       "25%                           15.250000                        4.000000   \n",
       "50%                           49.000000                       10.000000   \n",
       "75%                           86.750000                       21.000000   \n",
       "max                          278.000000                       55.000000   \n",
       "\n",
       "       new_school_related_unspecified_cases  \\\n",
       "count                            106.000000   \n",
       "mean                              10.849057   \n",
       "std                               15.080604   \n",
       "min                                0.000000   \n",
       "25%                                0.000000   \n",
       "50%                                2.000000   \n",
       "75%                               19.750000   \n",
       "max                               65.000000   \n",
       "\n",
       "       recent_total_school_related_cases  recent_school_related_student_cases  \\\n",
       "count                          94.000000                            94.000000   \n",
       "mean                          754.595745                           533.212766   \n",
       "std                           553.847895                           449.084514   \n",
       "min                             3.000000                             2.000000   \n",
       "25%                           162.500000                           128.750000   \n",
       "50%                           795.500000                           478.500000   \n",
       "75%                          1142.500000                           717.250000   \n",
       "max                          1844.000000                          1533.000000   \n",
       "\n",
       "       recent_school_related_staff_cases  \\\n",
       "count                          94.000000   \n",
       "mean                          109.936170   \n",
       "std                            92.085725   \n",
       "min                             0.000000   \n",
       "25%                            27.250000   \n",
       "50%                            97.500000   \n",
       "75%                           160.250000   \n",
       "max                           304.000000   \n",
       "\n",
       "       recent_school_related_unspecified_cases  \\\n",
       "count                                94.000000   \n",
       "mean                                111.425532   \n",
       "std                                 129.900333   \n",
       "min                                   0.000000   \n",
       "25%                                   4.250000   \n",
       "50%                                  22.000000   \n",
       "75%                                 236.750000   \n",
       "max                                 354.000000   \n",
       "\n",
       "       past_total_school_related_cases  past_school_related_student_cases  \\\n",
       "count                        94.000000                          94.000000   \n",
       "mean                       4272.808511                        2837.085106   \n",
       "std                        2850.112242                        2061.752463   \n",
       "min                          61.000000                          21.000000   \n",
       "25%                        1588.250000                         884.750000   \n",
       "50%                        4015.500000                        2393.000000   \n",
       "75%                        7315.750000                        5131.000000   \n",
       "max                        7881.000000                        5464.000000   \n",
       "\n",
       "       past_school_related_staff_cases  past_school_related_unspecified_cases  \\\n",
       "count                        94.000000                              94.000000   \n",
       "mean                        634.234043                             801.478723   \n",
       "std                         442.289484                             396.100013   \n",
       "min                          23.000000                              17.000000   \n",
       "25%                         238.250000                             465.250000   \n",
       "50%                         535.500000                            1087.000000   \n",
       "75%                        1094.000000                            1089.750000   \n",
       "max                        1292.000000                            1126.000000   \n",
       "\n",
       "       cumulative_school_related_cases  \\\n",
       "count                       108.000000   \n",
       "mean                       4394.314815   \n",
       "std                        2991.768325   \n",
       "min                          13.000000   \n",
       "25%                        1534.000000   \n",
       "50%                        4409.500000   \n",
       "75%                        7338.000000   \n",
       "max                        9049.000000   \n",
       "\n",
       "       cumulative_school_related_student_cases  \\\n",
       "count                               108.000000   \n",
       "mean                               2942.185185   \n",
       "std                                2163.749662   \n",
       "min                                   4.000000   \n",
       "25%                                 858.000000   \n",
       "50%                                2721.000000   \n",
       "75%                                5137.500000   \n",
       "max                                6455.000000   \n",
       "\n",
       "       cumulative_school_related_staff_cases  \\\n",
       "count                             108.000000   \n",
       "mean                              651.648148   \n",
       "std                               462.579689   \n",
       "min                                 9.000000   \n",
       "25%                               232.000000   \n",
       "50%                               601.500000   \n",
       "75%                              1097.000000   \n",
       "max                              1456.000000   \n",
       "\n",
       "       cumulative_school_related_unspecified_cases  \n",
       "count                                   106.000000  \n",
       "mean                                    815.594340  \n",
       "std                                     403.920284  \n",
       "min                                       6.000000  \n",
       "25%                                     486.750000  \n",
       "50%                                    1088.000000  \n",
       "75%                                    1109.500000  \n",
       "max                                    1138.000000  "
      ]
     },
     "execution_count": 91,
     "metadata": {},
     "output_type": "execute_result"
    }
   ],
   "source": [
    "#Using the describe() method\n",
    "summary = data.describe()\n",
    "summary"
   ]
  },
  {
   "cell_type": "markdown",
   "metadata": {},
   "source": [
    "We can index and slice the above dataframe like any other dataframe."
   ]
  },
  {
   "cell_type": "markdown",
   "metadata": {},
   "source": [
    "Next, we look at how to create new columns"
   ]
  },
  {
   "cell_type": "code",
   "execution_count": 99,
   "metadata": {
    "collapsed": false
   },
   "outputs": [
    {
     "data": {
      "text/html": [
       "<div>\n",
       "<style scoped>\n",
       "    .dataframe tbody tr th:only-of-type {\n",
       "        vertical-align: middle;\n",
       "    }\n",
       "\n",
       "    .dataframe tbody tr th {\n",
       "        vertical-align: top;\n",
       "    }\n",
       "\n",
       "    .dataframe thead th {\n",
       "        text-align: right;\n",
       "    }\n",
       "</style>\n",
       "<table border=\"1\" class=\"dataframe\">\n",
       "  <thead>\n",
       "    <tr style=\"text-align: right;\">\n",
       "      <th></th>\n",
       "      <th>collected_date</th>\n",
       "      <th>reported_date</th>\n",
       "      <th>current_schools_w_cases</th>\n",
       "      <th>current_schools_closed</th>\n",
       "      <th>current_total_number_schools</th>\n",
       "      <th>new_total_school_related_cases</th>\n",
       "      <th>new_school_related_student_cases</th>\n",
       "      <th>new_school_related_staff_cases</th>\n",
       "      <th>new_school_related_unspecified_cases</th>\n",
       "      <th>recent_total_school_related_cases</th>\n",
       "      <th>...</th>\n",
       "      <th>recent_school_related_unspecified_cases</th>\n",
       "      <th>past_total_school_related_cases</th>\n",
       "      <th>past_school_related_student_cases</th>\n",
       "      <th>past_school_related_staff_cases</th>\n",
       "      <th>past_school_related_unspecified_cases</th>\n",
       "      <th>cumulative_school_related_cases</th>\n",
       "      <th>cumulative_school_related_student_cases</th>\n",
       "      <th>cumulative_school_related_staff_cases</th>\n",
       "      <th>cumulative_school_related_unspecified_cases</th>\n",
       "      <th>Percent_Cases</th>\n",
       "    </tr>\n",
       "  </thead>\n",
       "  <tbody>\n",
       "    <tr>\n",
       "      <th>103</th>\n",
       "      <td>2021-02-25</td>\n",
       "      <td>2021-02-26</td>\n",
       "      <td>468</td>\n",
       "      <td>18</td>\n",
       "      <td>4828</td>\n",
       "      <td>101</td>\n",
       "      <td>89</td>\n",
       "      <td>12</td>\n",
       "      <td>0.0</td>\n",
       "      <td>735.0</td>\n",
       "      <td>...</td>\n",
       "      <td>7.0</td>\n",
       "      <td>7717.0</td>\n",
       "      <td>5326.0</td>\n",
       "      <td>1267.0</td>\n",
       "      <td>1124.0</td>\n",
       "      <td>8452</td>\n",
       "      <td>5946</td>\n",
       "      <td>1375</td>\n",
       "      <td>1131.0</td>\n",
       "      <td>9.693455</td>\n",
       "    </tr>\n",
       "    <tr>\n",
       "      <th>104</th>\n",
       "      <td>2021-02-26</td>\n",
       "      <td>2021-03-01</td>\n",
       "      <td>530</td>\n",
       "      <td>20</td>\n",
       "      <td>4828</td>\n",
       "      <td>116</td>\n",
       "      <td>99</td>\n",
       "      <td>15</td>\n",
       "      <td>2.0</td>\n",
       "      <td>844.0</td>\n",
       "      <td>...</td>\n",
       "      <td>9.0</td>\n",
       "      <td>7719.0</td>\n",
       "      <td>5328.0</td>\n",
       "      <td>1267.0</td>\n",
       "      <td>1124.0</td>\n",
       "      <td>8563</td>\n",
       "      <td>6043</td>\n",
       "      <td>1387</td>\n",
       "      <td>1133.0</td>\n",
       "      <td>10.977630</td>\n",
       "    </tr>\n",
       "    <tr>\n",
       "      <th>105</th>\n",
       "      <td>2021-03-01</td>\n",
       "      <td>2021-03-02</td>\n",
       "      <td>640</td>\n",
       "      <td>23</td>\n",
       "      <td>4828</td>\n",
       "      <td>262</td>\n",
       "      <td>231</td>\n",
       "      <td>30</td>\n",
       "      <td>1.0</td>\n",
       "      <td>1072.0</td>\n",
       "      <td>...</td>\n",
       "      <td>10.0</td>\n",
       "      <td>7741.0</td>\n",
       "      <td>5349.0</td>\n",
       "      <td>1268.0</td>\n",
       "      <td>1124.0</td>\n",
       "      <td>8813</td>\n",
       "      <td>6262</td>\n",
       "      <td>1417</td>\n",
       "      <td>1134.0</td>\n",
       "      <td>13.256007</td>\n",
       "    </tr>\n",
       "    <tr>\n",
       "      <th>106</th>\n",
       "      <td>2021-03-02</td>\n",
       "      <td>2021-03-03</td>\n",
       "      <td>672</td>\n",
       "      <td>24</td>\n",
       "      <td>4828</td>\n",
       "      <td>160</td>\n",
       "      <td>138</td>\n",
       "      <td>21</td>\n",
       "      <td>1.0</td>\n",
       "      <td>1141.0</td>\n",
       "      <td>...</td>\n",
       "      <td>10.0</td>\n",
       "      <td>7811.0</td>\n",
       "      <td>5412.0</td>\n",
       "      <td>1274.0</td>\n",
       "      <td>1125.0</td>\n",
       "      <td>8952</td>\n",
       "      <td>6379</td>\n",
       "      <td>1438</td>\n",
       "      <td>1135.0</td>\n",
       "      <td>13.918807</td>\n",
       "    </tr>\n",
       "    <tr>\n",
       "      <th>107</th>\n",
       "      <td>2021-03-03</td>\n",
       "      <td>2021-03-04</td>\n",
       "      <td>683</td>\n",
       "      <td>26</td>\n",
       "      <td>4828</td>\n",
       "      <td>101</td>\n",
       "      <td>77</td>\n",
       "      <td>21</td>\n",
       "      <td>3.0</td>\n",
       "      <td>1168.0</td>\n",
       "      <td>...</td>\n",
       "      <td>13.0</td>\n",
       "      <td>7881.0</td>\n",
       "      <td>5464.0</td>\n",
       "      <td>1292.0</td>\n",
       "      <td>1125.0</td>\n",
       "      <td>9049</td>\n",
       "      <td>6455</td>\n",
       "      <td>1456</td>\n",
       "      <td>1138.0</td>\n",
       "      <td>14.146645</td>\n",
       "    </tr>\n",
       "  </tbody>\n",
       "</table>\n",
       "<p>5 rows × 22 columns</p>\n",
       "</div>"
      ],
      "text/plain": [
       "    collected_date reported_date  current_schools_w_cases  \\\n",
       "103     2021-02-25    2021-02-26                      468   \n",
       "104     2021-02-26    2021-03-01                      530   \n",
       "105     2021-03-01    2021-03-02                      640   \n",
       "106     2021-03-02    2021-03-03                      672   \n",
       "107     2021-03-03    2021-03-04                      683   \n",
       "\n",
       "     current_schools_closed  current_total_number_schools  \\\n",
       "103                      18                          4828   \n",
       "104                      20                          4828   \n",
       "105                      23                          4828   \n",
       "106                      24                          4828   \n",
       "107                      26                          4828   \n",
       "\n",
       "     new_total_school_related_cases  new_school_related_student_cases  \\\n",
       "103                             101                                89   \n",
       "104                             116                                99   \n",
       "105                             262                               231   \n",
       "106                             160                               138   \n",
       "107                             101                                77   \n",
       "\n",
       "     new_school_related_staff_cases  new_school_related_unspecified_cases  \\\n",
       "103                              12                                   0.0   \n",
       "104                              15                                   2.0   \n",
       "105                              30                                   1.0   \n",
       "106                              21                                   1.0   \n",
       "107                              21                                   3.0   \n",
       "\n",
       "     recent_total_school_related_cases      ...        \\\n",
       "103                              735.0      ...         \n",
       "104                              844.0      ...         \n",
       "105                             1072.0      ...         \n",
       "106                             1141.0      ...         \n",
       "107                             1168.0      ...         \n",
       "\n",
       "     recent_school_related_unspecified_cases  past_total_school_related_cases  \\\n",
       "103                                      7.0                           7717.0   \n",
       "104                                      9.0                           7719.0   \n",
       "105                                     10.0                           7741.0   \n",
       "106                                     10.0                           7811.0   \n",
       "107                                     13.0                           7881.0   \n",
       "\n",
       "     past_school_related_student_cases  past_school_related_staff_cases  \\\n",
       "103                             5326.0                           1267.0   \n",
       "104                             5328.0                           1267.0   \n",
       "105                             5349.0                           1268.0   \n",
       "106                             5412.0                           1274.0   \n",
       "107                             5464.0                           1292.0   \n",
       "\n",
       "     past_school_related_unspecified_cases  cumulative_school_related_cases  \\\n",
       "103                                 1124.0                             8452   \n",
       "104                                 1124.0                             8563   \n",
       "105                                 1124.0                             8813   \n",
       "106                                 1125.0                             8952   \n",
       "107                                 1125.0                             9049   \n",
       "\n",
       "     cumulative_school_related_student_cases  \\\n",
       "103                                     5946   \n",
       "104                                     6043   \n",
       "105                                     6262   \n",
       "106                                     6379   \n",
       "107                                     6455   \n",
       "\n",
       "     cumulative_school_related_staff_cases  \\\n",
       "103                                   1375   \n",
       "104                                   1387   \n",
       "105                                   1417   \n",
       "106                                   1438   \n",
       "107                                   1456   \n",
       "\n",
       "     cumulative_school_related_unspecified_cases  Percent_Cases  \n",
       "103                                       1131.0       9.693455  \n",
       "104                                       1133.0      10.977630  \n",
       "105                                       1134.0      13.256007  \n",
       "106                                       1135.0      13.918807  \n",
       "107                                       1138.0      14.146645  \n",
       "\n",
       "[5 rows x 22 columns]"
      ]
     },
     "execution_count": 99,
     "metadata": {},
     "output_type": "execute_result"
    }
   ],
   "source": [
    "#Create a New Column that is a function of other columns\n",
    "data[\"Percent_Cases\"] = data[\"current_schools_w_cases\"]/4828*100\n",
    "data.tail()"
   ]
  },
  {
   "cell_type": "code",
   "execution_count": 100,
   "metadata": {
    "collapsed": false
   },
   "outputs": [
    {
     "data": {
      "text/html": [
       "<div>\n",
       "<style scoped>\n",
       "    .dataframe tbody tr th:only-of-type {\n",
       "        vertical-align: middle;\n",
       "    }\n",
       "\n",
       "    .dataframe tbody tr th {\n",
       "        vertical-align: top;\n",
       "    }\n",
       "\n",
       "    .dataframe thead th {\n",
       "        text-align: right;\n",
       "    }\n",
       "</style>\n",
       "<table border=\"1\" class=\"dataframe\">\n",
       "  <thead>\n",
       "    <tr style=\"text-align: right;\">\n",
       "      <th></th>\n",
       "      <th>collected_date</th>\n",
       "      <th>reported_date</th>\n",
       "      <th>current_schools_w_cases</th>\n",
       "      <th>current_schools_closed</th>\n",
       "      <th>current_total_number_schools</th>\n",
       "      <th>recent_total_school_related_cases</th>\n",
       "      <th>recent_school_related_student_cases</th>\n",
       "      <th>recent_school_related_staff_cases</th>\n",
       "      <th>recent_school_related_unspecified_cases</th>\n",
       "      <th>past_total_school_related_cases</th>\n",
       "      <th>past_school_related_student_cases</th>\n",
       "      <th>past_school_related_staff_cases</th>\n",
       "      <th>past_school_related_unspecified_cases</th>\n",
       "      <th>cumulative_school_related_cases</th>\n",
       "      <th>cumulative_school_related_student_cases</th>\n",
       "      <th>cumulative_school_related_staff_cases</th>\n",
       "      <th>cumulative_school_related_unspecified_cases</th>\n",
       "      <th>Percent_Cases</th>\n",
       "    </tr>\n",
       "  </thead>\n",
       "  <tbody>\n",
       "    <tr>\n",
       "      <th>0</th>\n",
       "      <td>2020-09-10</td>\n",
       "      <td>2020-09-11</td>\n",
       "      <td>13</td>\n",
       "      <td>0</td>\n",
       "      <td>4828</td>\n",
       "      <td>NaN</td>\n",
       "      <td>NaN</td>\n",
       "      <td>NaN</td>\n",
       "      <td>NaN</td>\n",
       "      <td>NaN</td>\n",
       "      <td>NaN</td>\n",
       "      <td>NaN</td>\n",
       "      <td>NaN</td>\n",
       "      <td>13</td>\n",
       "      <td>4</td>\n",
       "      <td>9</td>\n",
       "      <td>NaN</td>\n",
       "      <td>0.269263</td>\n",
       "    </tr>\n",
       "    <tr>\n",
       "      <th>1</th>\n",
       "      <td>2020-09-11</td>\n",
       "      <td>2020-09-14</td>\n",
       "      <td>15</td>\n",
       "      <td>0</td>\n",
       "      <td>4828</td>\n",
       "      <td>NaN</td>\n",
       "      <td>NaN</td>\n",
       "      <td>NaN</td>\n",
       "      <td>NaN</td>\n",
       "      <td>NaN</td>\n",
       "      <td>NaN</td>\n",
       "      <td>NaN</td>\n",
       "      <td>NaN</td>\n",
       "      <td>15</td>\n",
       "      <td>5</td>\n",
       "      <td>10</td>\n",
       "      <td>NaN</td>\n",
       "      <td>0.310688</td>\n",
       "    </tr>\n",
       "    <tr>\n",
       "      <th>2</th>\n",
       "      <td>2020-09-14</td>\n",
       "      <td>2020-09-15</td>\n",
       "      <td>27</td>\n",
       "      <td>0</td>\n",
       "      <td>4828</td>\n",
       "      <td>NaN</td>\n",
       "      <td>NaN</td>\n",
       "      <td>NaN</td>\n",
       "      <td>NaN</td>\n",
       "      <td>NaN</td>\n",
       "      <td>NaN</td>\n",
       "      <td>NaN</td>\n",
       "      <td>NaN</td>\n",
       "      <td>29</td>\n",
       "      <td>9</td>\n",
       "      <td>14</td>\n",
       "      <td>6.0</td>\n",
       "      <td>0.559238</td>\n",
       "    </tr>\n",
       "    <tr>\n",
       "      <th>3</th>\n",
       "      <td>2020-09-15</td>\n",
       "      <td>2020-09-16</td>\n",
       "      <td>35</td>\n",
       "      <td>0</td>\n",
       "      <td>4828</td>\n",
       "      <td>NaN</td>\n",
       "      <td>NaN</td>\n",
       "      <td>NaN</td>\n",
       "      <td>NaN</td>\n",
       "      <td>NaN</td>\n",
       "      <td>NaN</td>\n",
       "      <td>NaN</td>\n",
       "      <td>NaN</td>\n",
       "      <td>41</td>\n",
       "      <td>15</td>\n",
       "      <td>18</td>\n",
       "      <td>8.0</td>\n",
       "      <td>0.724938</td>\n",
       "    </tr>\n",
       "    <tr>\n",
       "      <th>4</th>\n",
       "      <td>2020-09-16</td>\n",
       "      <td>2020-09-17</td>\n",
       "      <td>51</td>\n",
       "      <td>1</td>\n",
       "      <td>4828</td>\n",
       "      <td>NaN</td>\n",
       "      <td>NaN</td>\n",
       "      <td>NaN</td>\n",
       "      <td>NaN</td>\n",
       "      <td>NaN</td>\n",
       "      <td>NaN</td>\n",
       "      <td>NaN</td>\n",
       "      <td>NaN</td>\n",
       "      <td>62</td>\n",
       "      <td>20</td>\n",
       "      <td>22</td>\n",
       "      <td>20.0</td>\n",
       "      <td>1.056338</td>\n",
       "    </tr>\n",
       "  </tbody>\n",
       "</table>\n",
       "</div>"
      ],
      "text/plain": [
       "  collected_date reported_date  current_schools_w_cases  \\\n",
       "0     2020-09-10    2020-09-11                       13   \n",
       "1     2020-09-11    2020-09-14                       15   \n",
       "2     2020-09-14    2020-09-15                       27   \n",
       "3     2020-09-15    2020-09-16                       35   \n",
       "4     2020-09-16    2020-09-17                       51   \n",
       "\n",
       "   current_schools_closed  current_total_number_schools  \\\n",
       "0                       0                          4828   \n",
       "1                       0                          4828   \n",
       "2                       0                          4828   \n",
       "3                       0                          4828   \n",
       "4                       1                          4828   \n",
       "\n",
       "   recent_total_school_related_cases  recent_school_related_student_cases  \\\n",
       "0                                NaN                                  NaN   \n",
       "1                                NaN                                  NaN   \n",
       "2                                NaN                                  NaN   \n",
       "3                                NaN                                  NaN   \n",
       "4                                NaN                                  NaN   \n",
       "\n",
       "   recent_school_related_staff_cases  recent_school_related_unspecified_cases  \\\n",
       "0                                NaN                                      NaN   \n",
       "1                                NaN                                      NaN   \n",
       "2                                NaN                                      NaN   \n",
       "3                                NaN                                      NaN   \n",
       "4                                NaN                                      NaN   \n",
       "\n",
       "   past_total_school_related_cases  past_school_related_student_cases  \\\n",
       "0                              NaN                                NaN   \n",
       "1                              NaN                                NaN   \n",
       "2                              NaN                                NaN   \n",
       "3                              NaN                                NaN   \n",
       "4                              NaN                                NaN   \n",
       "\n",
       "   past_school_related_staff_cases  past_school_related_unspecified_cases  \\\n",
       "0                              NaN                                    NaN   \n",
       "1                              NaN                                    NaN   \n",
       "2                              NaN                                    NaN   \n",
       "3                              NaN                                    NaN   \n",
       "4                              NaN                                    NaN   \n",
       "\n",
       "   cumulative_school_related_cases  cumulative_school_related_student_cases  \\\n",
       "0                               13                                        4   \n",
       "1                               15                                        5   \n",
       "2                               29                                        9   \n",
       "3                               41                                       15   \n",
       "4                               62                                       20   \n",
       "\n",
       "   cumulative_school_related_staff_cases  \\\n",
       "0                                      9   \n",
       "1                                     10   \n",
       "2                                     14   \n",
       "3                                     18   \n",
       "4                                     22   \n",
       "\n",
       "   cumulative_school_related_unspecified_cases  Percent_Cases  \n",
       "0                                          NaN       0.269263  \n",
       "1                                          NaN       0.310688  \n",
       "2                                          6.0       0.559238  \n",
       "3                                          8.0       0.724938  \n",
       "4                                         20.0       1.056338  "
      ]
     },
     "execution_count": 100,
     "metadata": {},
     "output_type": "execute_result"
    }
   ],
   "source": [
    "#Delete Columns\n",
    "data.drop([\"new_school_related_staff_cases\",\"new_total_school_related_cases\",\"new_school_related_student_cases\",\"new_school_related_unspecified_cases\"], inplace = True, axis=1)\n",
    "data.head()"
   ]
  },
  {
   "cell_type": "markdown",
   "metadata": {},
   "source": [
    "The inplace argument works as follows:\n",
    "\n",
    " - inplace = True : The dataframe itself will have the given column(s) deleted.\n",
    " - inplace = False: Will return a dataframe with the column(s) deleted.\n",
    " \n",
    " The axis argument works as follows:\n",
    " \n",
    " - axis = 1 : delete columns given\n",
    " - axis = 0 : delete rows given."
   ]
  },
  {
   "cell_type": "code",
   "execution_count": 101,
   "metadata": {
    "collapsed": false
   },
   "outputs": [
    {
     "data": {
      "text/plain": [
       "collected_date                                 datetime64[ns]\n",
       "reported_date                                          object\n",
       "current_schools_w_cases                                 int64\n",
       "current_schools_closed                                  int64\n",
       "current_total_number_schools                            int64\n",
       "recent_total_school_related_cases                     float64\n",
       "recent_school_related_student_cases                   float64\n",
       "recent_school_related_staff_cases                     float64\n",
       "recent_school_related_unspecified_cases               float64\n",
       "past_total_school_related_cases                       float64\n",
       "past_school_related_student_cases                     float64\n",
       "past_school_related_staff_cases                       float64\n",
       "past_school_related_unspecified_cases                 float64\n",
       "cumulative_school_related_cases                         int64\n",
       "cumulative_school_related_student_cases                 int64\n",
       "cumulative_school_related_staff_cases                   int64\n",
       "cumulative_school_related_unspecified_cases           float64\n",
       "Percent_Cases                                         float64\n",
       "dtype: object"
      ]
     },
     "execution_count": 101,
     "metadata": {},
     "output_type": "execute_result"
    }
   ],
   "source": [
    "#Reset the column collected_data and reported_date to be a datetime\n",
    "data[\"collected_date\"] = pd.to_datetime(data[\"collected_date\"]) \n",
    "\n",
    "#Now its a datetime object\n",
    "data.dtypes"
   ]
  },
  {
   "cell_type": "markdown",
   "metadata": {},
   "source": [
    "Let's look at the first entry of this column, that is now a datetime column"
   ]
  },
  {
   "cell_type": "code",
   "execution_count": 102,
   "metadata": {
    "collapsed": false
   },
   "outputs": [
    {
     "data": {
      "text/plain": [
       "Timestamp('2020-09-10 00:00:00')"
      ]
     },
     "execution_count": 102,
     "metadata": {},
     "output_type": "execute_result"
    }
   ],
   "source": [
    "first_entry = data.loc[0,\"collected_date\"]\n",
    "first_entry"
   ]
  },
  {
   "cell_type": "markdown",
   "metadata": {},
   "source": [
    "We see that it is a timestamp.  Timestamps have lots of nice attributes that we can extract."
   ]
  },
  {
   "cell_type": "code",
   "execution_count": 103,
   "metadata": {
    "collapsed": false
   },
   "outputs": [
    {
     "data": {
      "text/plain": [
       "10"
      ]
     },
     "execution_count": 103,
     "metadata": {},
     "output_type": "execute_result"
    }
   ],
   "source": [
    "#Get the day\n",
    "first_entry.day"
   ]
  },
  {
   "cell_type": "code",
   "execution_count": 104,
   "metadata": {
    "collapsed": false
   },
   "outputs": [
    {
     "data": {
      "text/plain": [
       "9"
      ]
     },
     "execution_count": 104,
     "metadata": {},
     "output_type": "execute_result"
    }
   ],
   "source": [
    "#Get the month\n",
    "first_entry.month"
   ]
  },
  {
   "cell_type": "code",
   "execution_count": 107,
   "metadata": {
    "collapsed": false
   },
   "outputs": [
    {
     "data": {
      "text/plain": [
       "'Thursday'"
      ]
     },
     "execution_count": 107,
     "metadata": {},
     "output_type": "execute_result"
    }
   ],
   "source": [
    "#We can get the weekday name\n",
    "first_entry.day_name()"
   ]
  },
  {
   "cell_type": "code",
   "execution_count": 108,
   "metadata": {
    "collapsed": false
   },
   "outputs": [
    {
     "data": {
      "text/plain": [
       "True"
      ]
     },
     "execution_count": 108,
     "metadata": {},
     "output_type": "execute_result"
    }
   ],
   "source": [
    "#We can even see if the year is a leap year\n",
    "first_entry.is_leap_year"
   ]
  },
  {
   "cell_type": "code",
   "execution_count": 109,
   "metadata": {
    "collapsed": false
   },
   "outputs": [
    {
     "data": {
      "text/html": [
       "<div>\n",
       "<style scoped>\n",
       "    .dataframe tbody tr th:only-of-type {\n",
       "        vertical-align: middle;\n",
       "    }\n",
       "\n",
       "    .dataframe tbody tr th {\n",
       "        vertical-align: top;\n",
       "    }\n",
       "\n",
       "    .dataframe thead th {\n",
       "        text-align: right;\n",
       "    }\n",
       "</style>\n",
       "<table border=\"1\" class=\"dataframe\">\n",
       "  <thead>\n",
       "    <tr style=\"text-align: right;\">\n",
       "      <th></th>\n",
       "      <th>collected_date</th>\n",
       "      <th>reported_date</th>\n",
       "      <th>current_schools_w_cases</th>\n",
       "      <th>current_schools_closed</th>\n",
       "      <th>current_total_number_schools</th>\n",
       "      <th>recent_total_school_related_cases</th>\n",
       "      <th>recent_school_related_student_cases</th>\n",
       "      <th>recent_school_related_staff_cases</th>\n",
       "      <th>recent_school_related_unspecified_cases</th>\n",
       "      <th>past_total_school_related_cases</th>\n",
       "      <th>past_school_related_student_cases</th>\n",
       "      <th>past_school_related_staff_cases</th>\n",
       "      <th>past_school_related_unspecified_cases</th>\n",
       "      <th>cumulative_school_related_cases</th>\n",
       "      <th>cumulative_school_related_student_cases</th>\n",
       "      <th>cumulative_school_related_staff_cases</th>\n",
       "      <th>cumulative_school_related_unspecified_cases</th>\n",
       "      <th>Percent_Cases</th>\n",
       "      <th>DOW</th>\n",
       "    </tr>\n",
       "  </thead>\n",
       "  <tbody>\n",
       "    <tr>\n",
       "      <th>0</th>\n",
       "      <td>2020-09-10</td>\n",
       "      <td>2020-09-11</td>\n",
       "      <td>13</td>\n",
       "      <td>0</td>\n",
       "      <td>4828</td>\n",
       "      <td>NaN</td>\n",
       "      <td>NaN</td>\n",
       "      <td>NaN</td>\n",
       "      <td>NaN</td>\n",
       "      <td>NaN</td>\n",
       "      <td>NaN</td>\n",
       "      <td>NaN</td>\n",
       "      <td>NaN</td>\n",
       "      <td>13</td>\n",
       "      <td>4</td>\n",
       "      <td>9</td>\n",
       "      <td>NaN</td>\n",
       "      <td>0.269263</td>\n",
       "      <td>Thursday</td>\n",
       "    </tr>\n",
       "    <tr>\n",
       "      <th>1</th>\n",
       "      <td>2020-09-11</td>\n",
       "      <td>2020-09-14</td>\n",
       "      <td>15</td>\n",
       "      <td>0</td>\n",
       "      <td>4828</td>\n",
       "      <td>NaN</td>\n",
       "      <td>NaN</td>\n",
       "      <td>NaN</td>\n",
       "      <td>NaN</td>\n",
       "      <td>NaN</td>\n",
       "      <td>NaN</td>\n",
       "      <td>NaN</td>\n",
       "      <td>NaN</td>\n",
       "      <td>15</td>\n",
       "      <td>5</td>\n",
       "      <td>10</td>\n",
       "      <td>NaN</td>\n",
       "      <td>0.310688</td>\n",
       "      <td>Friday</td>\n",
       "    </tr>\n",
       "    <tr>\n",
       "      <th>2</th>\n",
       "      <td>2020-09-14</td>\n",
       "      <td>2020-09-15</td>\n",
       "      <td>27</td>\n",
       "      <td>0</td>\n",
       "      <td>4828</td>\n",
       "      <td>NaN</td>\n",
       "      <td>NaN</td>\n",
       "      <td>NaN</td>\n",
       "      <td>NaN</td>\n",
       "      <td>NaN</td>\n",
       "      <td>NaN</td>\n",
       "      <td>NaN</td>\n",
       "      <td>NaN</td>\n",
       "      <td>29</td>\n",
       "      <td>9</td>\n",
       "      <td>14</td>\n",
       "      <td>6.0</td>\n",
       "      <td>0.559238</td>\n",
       "      <td>Monday</td>\n",
       "    </tr>\n",
       "    <tr>\n",
       "      <th>3</th>\n",
       "      <td>2020-09-15</td>\n",
       "      <td>2020-09-16</td>\n",
       "      <td>35</td>\n",
       "      <td>0</td>\n",
       "      <td>4828</td>\n",
       "      <td>NaN</td>\n",
       "      <td>NaN</td>\n",
       "      <td>NaN</td>\n",
       "      <td>NaN</td>\n",
       "      <td>NaN</td>\n",
       "      <td>NaN</td>\n",
       "      <td>NaN</td>\n",
       "      <td>NaN</td>\n",
       "      <td>41</td>\n",
       "      <td>15</td>\n",
       "      <td>18</td>\n",
       "      <td>8.0</td>\n",
       "      <td>0.724938</td>\n",
       "      <td>Tuesday</td>\n",
       "    </tr>\n",
       "    <tr>\n",
       "      <th>4</th>\n",
       "      <td>2020-09-16</td>\n",
       "      <td>2020-09-17</td>\n",
       "      <td>51</td>\n",
       "      <td>1</td>\n",
       "      <td>4828</td>\n",
       "      <td>NaN</td>\n",
       "      <td>NaN</td>\n",
       "      <td>NaN</td>\n",
       "      <td>NaN</td>\n",
       "      <td>NaN</td>\n",
       "      <td>NaN</td>\n",
       "      <td>NaN</td>\n",
       "      <td>NaN</td>\n",
       "      <td>62</td>\n",
       "      <td>20</td>\n",
       "      <td>22</td>\n",
       "      <td>20.0</td>\n",
       "      <td>1.056338</td>\n",
       "      <td>Wednesday</td>\n",
       "    </tr>\n",
       "  </tbody>\n",
       "</table>\n",
       "</div>"
      ],
      "text/plain": [
       "  collected_date reported_date  current_schools_w_cases  \\\n",
       "0     2020-09-10    2020-09-11                       13   \n",
       "1     2020-09-11    2020-09-14                       15   \n",
       "2     2020-09-14    2020-09-15                       27   \n",
       "3     2020-09-15    2020-09-16                       35   \n",
       "4     2020-09-16    2020-09-17                       51   \n",
       "\n",
       "   current_schools_closed  current_total_number_schools  \\\n",
       "0                       0                          4828   \n",
       "1                       0                          4828   \n",
       "2                       0                          4828   \n",
       "3                       0                          4828   \n",
       "4                       1                          4828   \n",
       "\n",
       "   recent_total_school_related_cases  recent_school_related_student_cases  \\\n",
       "0                                NaN                                  NaN   \n",
       "1                                NaN                                  NaN   \n",
       "2                                NaN                                  NaN   \n",
       "3                                NaN                                  NaN   \n",
       "4                                NaN                                  NaN   \n",
       "\n",
       "   recent_school_related_staff_cases  recent_school_related_unspecified_cases  \\\n",
       "0                                NaN                                      NaN   \n",
       "1                                NaN                                      NaN   \n",
       "2                                NaN                                      NaN   \n",
       "3                                NaN                                      NaN   \n",
       "4                                NaN                                      NaN   \n",
       "\n",
       "   past_total_school_related_cases  past_school_related_student_cases  \\\n",
       "0                              NaN                                NaN   \n",
       "1                              NaN                                NaN   \n",
       "2                              NaN                                NaN   \n",
       "3                              NaN                                NaN   \n",
       "4                              NaN                                NaN   \n",
       "\n",
       "   past_school_related_staff_cases  past_school_related_unspecified_cases  \\\n",
       "0                              NaN                                    NaN   \n",
       "1                              NaN                                    NaN   \n",
       "2                              NaN                                    NaN   \n",
       "3                              NaN                                    NaN   \n",
       "4                              NaN                                    NaN   \n",
       "\n",
       "   cumulative_school_related_cases  cumulative_school_related_student_cases  \\\n",
       "0                               13                                        4   \n",
       "1                               15                                        5   \n",
       "2                               29                                        9   \n",
       "3                               41                                       15   \n",
       "4                               62                                       20   \n",
       "\n",
       "   cumulative_school_related_staff_cases  \\\n",
       "0                                      9   \n",
       "1                                     10   \n",
       "2                                     14   \n",
       "3                                     18   \n",
       "4                                     22   \n",
       "\n",
       "   cumulative_school_related_unspecified_cases  Percent_Cases        DOW  \n",
       "0                                          NaN       0.269263   Thursday  \n",
       "1                                          NaN       0.310688     Friday  \n",
       "2                                          6.0       0.559238     Monday  \n",
       "3                                          8.0       0.724938    Tuesday  \n",
       "4                                         20.0       1.056338  Wednesday  "
      ]
     },
     "execution_count": 109,
     "metadata": {},
     "output_type": "execute_result"
    }
   ],
   "source": [
    "#Lets add this column in \n",
    "data[\"DOW\"] = data[\"collected_date\"].dt.day_name()\n",
    "data.head()"
   ]
  },
  {
   "cell_type": "code",
   "execution_count": 110,
   "metadata": {
    "collapsed": false
   },
   "outputs": [
    {
     "data": {
      "text/plain": [
       "Wednesday    22\n",
       "Tuesday      22\n",
       "Thursday     22\n",
       "Friday       22\n",
       "Monday       20\n",
       "Name: DOW, dtype: int64"
      ]
     },
     "execution_count": 110,
     "metadata": {},
     "output_type": "execute_result"
    }
   ],
   "source": [
    "#Let's see the most frequent days for parking tickets\n",
    "data[\"DOW\"].value_counts()"
   ]
  },
  {
   "cell_type": "code",
   "execution_count": 111,
   "metadata": {
    "collapsed": false
   },
   "outputs": [
    {
     "data": {
      "text/plain": [
       "Index(['collected_date', 'reported_date', 'current_schools_w_cases',\n",
       "       'current_schools_closed', 'current_total_number_schools',\n",
       "       'recent_total_school_related_cases',\n",
       "       'recent_school_related_student_cases',\n",
       "       'recent_school_related_staff_cases',\n",
       "       'recent_school_related_unspecified_cases',\n",
       "       'past_total_school_related_cases', 'past_school_related_student_cases',\n",
       "       'past_school_related_staff_cases',\n",
       "       'past_school_related_unspecified_cases',\n",
       "       'cumulative_school_related_cases',\n",
       "       'cumulative_school_related_student_cases',\n",
       "       'cumulative_school_related_staff_cases',\n",
       "       'cumulative_school_related_unspecified_cases', 'Percent_Cases', 'DOW'],\n",
       "      dtype='object')"
      ]
     },
     "execution_count": 111,
     "metadata": {},
     "output_type": "execute_result"
    }
   ],
   "source": [
    "#Get the column names\n",
    "data.columns"
   ]
  },
  {
   "cell_type": "markdown",
   "metadata": {},
   "source": [
    "We can change column names through the rename method"
   ]
  },
  {
   "cell_type": "code",
   "execution_count": 115,
   "metadata": {
    "collapsed": false
   },
   "outputs": [
    {
     "data": {
      "text/html": [
       "<div>\n",
       "<style scoped>\n",
       "    .dataframe tbody tr th:only-of-type {\n",
       "        vertical-align: middle;\n",
       "    }\n",
       "\n",
       "    .dataframe tbody tr th {\n",
       "        vertical-align: top;\n",
       "    }\n",
       "\n",
       "    .dataframe thead th {\n",
       "        text-align: right;\n",
       "    }\n",
       "</style>\n",
       "<table border=\"1\" class=\"dataframe\">\n",
       "  <thead>\n",
       "    <tr style=\"text-align: right;\">\n",
       "      <th></th>\n",
       "      <th>date</th>\n",
       "      <th>reported_date</th>\n",
       "      <th>current_schools_w_cases</th>\n",
       "      <th>current_schools_closed</th>\n",
       "      <th>current_total_number_schools</th>\n",
       "      <th>recent_total_school_related_cases</th>\n",
       "      <th>recent_school_related_student_cases</th>\n",
       "      <th>recent_school_related_staff_cases</th>\n",
       "      <th>recent_school_related_unspecified_cases</th>\n",
       "      <th>past_total_school_related_cases</th>\n",
       "      <th>past_school_related_student_cases</th>\n",
       "      <th>past_school_related_staff_cases</th>\n",
       "      <th>past_school_related_unspecified_cases</th>\n",
       "      <th>cumulative_school_related_cases</th>\n",
       "      <th>cumulative_school_related_student_cases</th>\n",
       "      <th>cumulative_school_related_staff_cases</th>\n",
       "      <th>cumulative_school_related_unspecified_cases</th>\n",
       "      <th>Percent_Cases</th>\n",
       "      <th>DOW</th>\n",
       "    </tr>\n",
       "  </thead>\n",
       "  <tbody>\n",
       "    <tr>\n",
       "      <th>0</th>\n",
       "      <td>2020-09-10</td>\n",
       "      <td>2020-09-11</td>\n",
       "      <td>13</td>\n",
       "      <td>0</td>\n",
       "      <td>4828</td>\n",
       "      <td>NaN</td>\n",
       "      <td>NaN</td>\n",
       "      <td>NaN</td>\n",
       "      <td>NaN</td>\n",
       "      <td>NaN</td>\n",
       "      <td>NaN</td>\n",
       "      <td>NaN</td>\n",
       "      <td>NaN</td>\n",
       "      <td>13</td>\n",
       "      <td>4</td>\n",
       "      <td>9</td>\n",
       "      <td>NaN</td>\n",
       "      <td>0.269263</td>\n",
       "      <td>Thursday</td>\n",
       "    </tr>\n",
       "    <tr>\n",
       "      <th>1</th>\n",
       "      <td>2020-09-11</td>\n",
       "      <td>2020-09-14</td>\n",
       "      <td>15</td>\n",
       "      <td>0</td>\n",
       "      <td>4828</td>\n",
       "      <td>NaN</td>\n",
       "      <td>NaN</td>\n",
       "      <td>NaN</td>\n",
       "      <td>NaN</td>\n",
       "      <td>NaN</td>\n",
       "      <td>NaN</td>\n",
       "      <td>NaN</td>\n",
       "      <td>NaN</td>\n",
       "      <td>15</td>\n",
       "      <td>5</td>\n",
       "      <td>10</td>\n",
       "      <td>NaN</td>\n",
       "      <td>0.310688</td>\n",
       "      <td>Friday</td>\n",
       "    </tr>\n",
       "    <tr>\n",
       "      <th>2</th>\n",
       "      <td>2020-09-14</td>\n",
       "      <td>2020-09-15</td>\n",
       "      <td>27</td>\n",
       "      <td>0</td>\n",
       "      <td>4828</td>\n",
       "      <td>NaN</td>\n",
       "      <td>NaN</td>\n",
       "      <td>NaN</td>\n",
       "      <td>NaN</td>\n",
       "      <td>NaN</td>\n",
       "      <td>NaN</td>\n",
       "      <td>NaN</td>\n",
       "      <td>NaN</td>\n",
       "      <td>29</td>\n",
       "      <td>9</td>\n",
       "      <td>14</td>\n",
       "      <td>6.0</td>\n",
       "      <td>0.559238</td>\n",
       "      <td>Monday</td>\n",
       "    </tr>\n",
       "    <tr>\n",
       "      <th>3</th>\n",
       "      <td>2020-09-15</td>\n",
       "      <td>2020-09-16</td>\n",
       "      <td>35</td>\n",
       "      <td>0</td>\n",
       "      <td>4828</td>\n",
       "      <td>NaN</td>\n",
       "      <td>NaN</td>\n",
       "      <td>NaN</td>\n",
       "      <td>NaN</td>\n",
       "      <td>NaN</td>\n",
       "      <td>NaN</td>\n",
       "      <td>NaN</td>\n",
       "      <td>NaN</td>\n",
       "      <td>41</td>\n",
       "      <td>15</td>\n",
       "      <td>18</td>\n",
       "      <td>8.0</td>\n",
       "      <td>0.724938</td>\n",
       "      <td>Tuesday</td>\n",
       "    </tr>\n",
       "    <tr>\n",
       "      <th>4</th>\n",
       "      <td>2020-09-16</td>\n",
       "      <td>2020-09-17</td>\n",
       "      <td>51</td>\n",
       "      <td>1</td>\n",
       "      <td>4828</td>\n",
       "      <td>NaN</td>\n",
       "      <td>NaN</td>\n",
       "      <td>NaN</td>\n",
       "      <td>NaN</td>\n",
       "      <td>NaN</td>\n",
       "      <td>NaN</td>\n",
       "      <td>NaN</td>\n",
       "      <td>NaN</td>\n",
       "      <td>62</td>\n",
       "      <td>20</td>\n",
       "      <td>22</td>\n",
       "      <td>20.0</td>\n",
       "      <td>1.056338</td>\n",
       "      <td>Wednesday</td>\n",
       "    </tr>\n",
       "  </tbody>\n",
       "</table>\n",
       "</div>"
      ],
      "text/plain": [
       "        date reported_date  current_schools_w_cases  current_schools_closed  \\\n",
       "0 2020-09-10    2020-09-11                       13                       0   \n",
       "1 2020-09-11    2020-09-14                       15                       0   \n",
       "2 2020-09-14    2020-09-15                       27                       0   \n",
       "3 2020-09-15    2020-09-16                       35                       0   \n",
       "4 2020-09-16    2020-09-17                       51                       1   \n",
       "\n",
       "   current_total_number_schools  recent_total_school_related_cases  \\\n",
       "0                          4828                                NaN   \n",
       "1                          4828                                NaN   \n",
       "2                          4828                                NaN   \n",
       "3                          4828                                NaN   \n",
       "4                          4828                                NaN   \n",
       "\n",
       "   recent_school_related_student_cases  recent_school_related_staff_cases  \\\n",
       "0                                  NaN                                NaN   \n",
       "1                                  NaN                                NaN   \n",
       "2                                  NaN                                NaN   \n",
       "3                                  NaN                                NaN   \n",
       "4                                  NaN                                NaN   \n",
       "\n",
       "   recent_school_related_unspecified_cases  past_total_school_related_cases  \\\n",
       "0                                      NaN                              NaN   \n",
       "1                                      NaN                              NaN   \n",
       "2                                      NaN                              NaN   \n",
       "3                                      NaN                              NaN   \n",
       "4                                      NaN                              NaN   \n",
       "\n",
       "   past_school_related_student_cases  past_school_related_staff_cases  \\\n",
       "0                                NaN                              NaN   \n",
       "1                                NaN                              NaN   \n",
       "2                                NaN                              NaN   \n",
       "3                                NaN                              NaN   \n",
       "4                                NaN                              NaN   \n",
       "\n",
       "   past_school_related_unspecified_cases  cumulative_school_related_cases  \\\n",
       "0                                    NaN                               13   \n",
       "1                                    NaN                               15   \n",
       "2                                    NaN                               29   \n",
       "3                                    NaN                               41   \n",
       "4                                    NaN                               62   \n",
       "\n",
       "   cumulative_school_related_student_cases  \\\n",
       "0                                        4   \n",
       "1                                        5   \n",
       "2                                        9   \n",
       "3                                       15   \n",
       "4                                       20   \n",
       "\n",
       "   cumulative_school_related_staff_cases  \\\n",
       "0                                      9   \n",
       "1                                     10   \n",
       "2                                     14   \n",
       "3                                     18   \n",
       "4                                     22   \n",
       "\n",
       "   cumulative_school_related_unspecified_cases  Percent_Cases        DOW  \n",
       "0                                          NaN       0.269263   Thursday  \n",
       "1                                          NaN       0.310688     Friday  \n",
       "2                                          6.0       0.559238     Monday  \n",
       "3                                          8.0       0.724938    Tuesday  \n",
       "4                                         20.0       1.056338  Wednesday  "
      ]
     },
     "execution_count": 115,
     "metadata": {},
     "output_type": "execute_result"
    }
   ],
   "source": [
    "#Change the column names\n",
    "data.rename(columns={\"collected_date\":\"date\"}, inplace=True)\n",
    "\n",
    "data.head()"
   ]
  },
  {
   "cell_type": "markdown",
   "metadata": {},
   "source": [
    "The format for the columns input is {\"old_column_name\":\"new_column_name\"}. It should be noted that the rename method can also be applied to change the index by changing columns to index."
   ]
  }
 ],
 "metadata": {
  "kernelspec": {
   "display_name": "Python 3",
   "language": "python",
   "name": "python3"
  },
  "language_info": {
   "codemirror_mode": {
    "name": "ipython",
    "version": 3
   },
   "file_extension": ".py",
   "mimetype": "text/x-python",
   "name": "python",
   "nbconvert_exporter": "python",
   "pygments_lexer": "ipython3",
   "version": "3.7.1"
  },
  "toc": {
   "colors": {
    "hover_highlight": "#DAA520",
    "navigate_num": "#000000",
    "navigate_text": "#333333",
    "running_highlight": "#FF0000",
    "selected_highlight": "#FFD700",
    "sidebar_border": "#EEEEEE",
    "wrapper_background": "#FFFFFF"
   },
   "moveMenuLeft": true,
   "nav_menu": {
    "height": "138px",
    "width": "252px"
   },
   "navigate_menu": true,
   "number_sections": true,
   "sideBar": true,
   "threshold": 4,
   "toc_cell": false,
   "toc_section_display": "block",
   "toc_window_display": false,
   "widenNotebook": false
  }
 },
 "nbformat": 4,
 "nbformat_minor": 2
}
